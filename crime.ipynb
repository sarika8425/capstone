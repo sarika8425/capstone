{
 "cells": [
  {
   "cell_type": "markdown",
   "metadata": {},
   "source": [
    "Data from https://archive.ics.uci.edu/ml/datasets/Communities+and+Crime"
   ]
  },
  {
   "cell_type": "code",
   "execution_count": 3,
   "metadata": {
    "collapsed": true
   },
   "outputs": [],
   "source": [
    "import pandas as pd\n",
    "import statsmodels.api as sm\n",
    "import pylab as pl\n",
    "import numpy as np\n",
    "%matplotlib inline\n",
    "import matplotlib.pyplot as plt"
   ]
  },
  {
   "cell_type": "markdown",
   "metadata": {},
   "source": [
    "Deleted columns which had most values missing PolicCars\tPolicOperBudg\tLemasPctPolicOnPatr\t LemasGangUnitDeploy\t\n",
    "PolicBudgPerPop\tLemasSwornFT LemasSwFTPerPop LemasSwFTFieldOps LemasSwFTFieldPerPop\tLemasTotalReq LemasTotReqPerPop\t \n",
    "PolicReqPerOffic PolicPerPop RacialMatchCommPol\tPctPolicWhite PctPolicBlack\tPctPolicHisp PctPolicAsian\tPctPolicMinorOfficAssgnDrugUnits NumKindsDrugsSeiz\tPolicAveOTWorked & non predictive county, community , communityname"
   ]
  },
  {
   "cell_type": "code",
   "execution_count": 4,
   "metadata": {
    "collapsed": false
   },
   "outputs": [
    {
     "data": {
      "text/html": [
       "<div>\n",
       "<table border=\"1\" class=\"dataframe\">\n",
       "  <thead>\n",
       "    <tr style=\"text-align: right;\">\n",
       "      <th></th>\n",
       "      <th>0</th>\n",
       "      <th>1</th>\n",
       "      <th>2</th>\n",
       "      <th>3</th>\n",
       "      <th>4</th>\n",
       "      <th>5</th>\n",
       "      <th>6</th>\n",
       "      <th>7</th>\n",
       "      <th>8</th>\n",
       "      <th>9</th>\n",
       "      <th>...</th>\n",
       "      <th>89</th>\n",
       "      <th>90</th>\n",
       "      <th>91</th>\n",
       "      <th>92</th>\n",
       "      <th>93</th>\n",
       "      <th>94</th>\n",
       "      <th>95</th>\n",
       "      <th>96</th>\n",
       "      <th>97</th>\n",
       "      <th>98</th>\n",
       "    </tr>\n",
       "  </thead>\n",
       "  <tbody>\n",
       "    <tr>\n",
       "      <th>0</th>\n",
       "      <td>8</td>\n",
       "      <td>0.19</td>\n",
       "      <td>0.33</td>\n",
       "      <td>0.02</td>\n",
       "      <td>0.90</td>\n",
       "      <td>0.12</td>\n",
       "      <td>0.17</td>\n",
       "      <td>0.34</td>\n",
       "      <td>0.47</td>\n",
       "      <td>0.29</td>\n",
       "      <td>...</td>\n",
       "      <td>0.12</td>\n",
       "      <td>0.42</td>\n",
       "      <td>0.50</td>\n",
       "      <td>0.51</td>\n",
       "      <td>0.64</td>\n",
       "      <td>0.12</td>\n",
       "      <td>0.26</td>\n",
       "      <td>0.20</td>\n",
       "      <td>0.32</td>\n",
       "      <td>0.20</td>\n",
       "    </tr>\n",
       "    <tr>\n",
       "      <th>1</th>\n",
       "      <td>53</td>\n",
       "      <td>0.00</td>\n",
       "      <td>0.16</td>\n",
       "      <td>0.12</td>\n",
       "      <td>0.74</td>\n",
       "      <td>0.45</td>\n",
       "      <td>0.07</td>\n",
       "      <td>0.26</td>\n",
       "      <td>0.59</td>\n",
       "      <td>0.35</td>\n",
       "      <td>...</td>\n",
       "      <td>0.21</td>\n",
       "      <td>0.50</td>\n",
       "      <td>0.34</td>\n",
       "      <td>0.60</td>\n",
       "      <td>0.52</td>\n",
       "      <td>0.02</td>\n",
       "      <td>0.12</td>\n",
       "      <td>0.45</td>\n",
       "      <td>0.00</td>\n",
       "      <td>0.67</td>\n",
       "    </tr>\n",
       "    <tr>\n",
       "      <th>2</th>\n",
       "      <td>24</td>\n",
       "      <td>0.00</td>\n",
       "      <td>0.42</td>\n",
       "      <td>0.49</td>\n",
       "      <td>0.56</td>\n",
       "      <td>0.17</td>\n",
       "      <td>0.04</td>\n",
       "      <td>0.39</td>\n",
       "      <td>0.47</td>\n",
       "      <td>0.28</td>\n",
       "      <td>...</td>\n",
       "      <td>0.14</td>\n",
       "      <td>0.49</td>\n",
       "      <td>0.54</td>\n",
       "      <td>0.67</td>\n",
       "      <td>0.56</td>\n",
       "      <td>0.01</td>\n",
       "      <td>0.21</td>\n",
       "      <td>0.02</td>\n",
       "      <td>0.00</td>\n",
       "      <td>0.43</td>\n",
       "    </tr>\n",
       "    <tr>\n",
       "      <th>3</th>\n",
       "      <td>34</td>\n",
       "      <td>0.04</td>\n",
       "      <td>0.77</td>\n",
       "      <td>1.00</td>\n",
       "      <td>0.08</td>\n",
       "      <td>0.12</td>\n",
       "      <td>0.10</td>\n",
       "      <td>0.51</td>\n",
       "      <td>0.50</td>\n",
       "      <td>0.34</td>\n",
       "      <td>...</td>\n",
       "      <td>0.19</td>\n",
       "      <td>0.30</td>\n",
       "      <td>0.73</td>\n",
       "      <td>0.64</td>\n",
       "      <td>0.65</td>\n",
       "      <td>0.02</td>\n",
       "      <td>0.39</td>\n",
       "      <td>0.28</td>\n",
       "      <td>0.00</td>\n",
       "      <td>0.12</td>\n",
       "    </tr>\n",
       "    <tr>\n",
       "      <th>4</th>\n",
       "      <td>42</td>\n",
       "      <td>0.01</td>\n",
       "      <td>0.55</td>\n",
       "      <td>0.02</td>\n",
       "      <td>0.95</td>\n",
       "      <td>0.09</td>\n",
       "      <td>0.05</td>\n",
       "      <td>0.38</td>\n",
       "      <td>0.38</td>\n",
       "      <td>0.23</td>\n",
       "      <td>...</td>\n",
       "      <td>0.11</td>\n",
       "      <td>0.72</td>\n",
       "      <td>0.64</td>\n",
       "      <td>0.61</td>\n",
       "      <td>0.53</td>\n",
       "      <td>0.04</td>\n",
       "      <td>0.09</td>\n",
       "      <td>0.02</td>\n",
       "      <td>0.00</td>\n",
       "      <td>0.03</td>\n",
       "    </tr>\n",
       "  </tbody>\n",
       "</table>\n",
       "<p>5 rows × 99 columns</p>\n",
       "</div>"
      ],
      "text/plain": [
       "   0     1     2     3     4     5     6     7     8     9   ...     89    90  \\\n",
       "0   8  0.19  0.33  0.02  0.90  0.12  0.17  0.34  0.47  0.29  ...   0.12  0.42   \n",
       "1  53  0.00  0.16  0.12  0.74  0.45  0.07  0.26  0.59  0.35  ...   0.21  0.50   \n",
       "2  24  0.00  0.42  0.49  0.56  0.17  0.04  0.39  0.47  0.28  ...   0.14  0.49   \n",
       "3  34  0.04  0.77  1.00  0.08  0.12  0.10  0.51  0.50  0.34  ...   0.19  0.30   \n",
       "4  42  0.01  0.55  0.02  0.95  0.09  0.05  0.38  0.38  0.23  ...   0.11  0.72   \n",
       "\n",
       "     91    92    93    94    95    96    97    98  \n",
       "0  0.50  0.51  0.64  0.12  0.26  0.20  0.32  0.20  \n",
       "1  0.34  0.60  0.52  0.02  0.12  0.45  0.00  0.67  \n",
       "2  0.54  0.67  0.56  0.01  0.21  0.02  0.00  0.43  \n",
       "3  0.73  0.64  0.65  0.02  0.39  0.28  0.00  0.12  \n",
       "4  0.64  0.61  0.53  0.04  0.09  0.02  0.00  0.03  \n",
       "\n",
       "[5 rows x 99 columns]"
      ]
     },
     "execution_count": 4,
     "metadata": {},
     "output_type": "execute_result"
    }
   ],
   "source": [
    "df = pd.DataFrame.from_csv('crimen.csv', index_col=None,header=None)\n",
    "df.head()"
   ]
  },
  {
   "cell_type": "markdown",
   "metadata": {},
   "source": [
    "Drop non predictive State"
   ]
  },
  {
   "cell_type": "code",
   "execution_count": 5,
   "metadata": {
    "collapsed": false
   },
   "outputs": [],
   "source": [
    "df=df.drop(df[[0]],1)\n"
   ]
  },
  {
   "cell_type": "code",
   "execution_count": 130,
   "metadata": {
    "collapsed": false
   },
   "outputs": [],
   "source": []
  },
  {
   "cell_type": "code",
   "execution_count": 6,
   "metadata": {
    "collapsed": false
   },
   "outputs": [],
   "source": [
    "dfc=df.corr()"
   ]
  },
  {
   "cell_type": "markdown",
   "metadata": {
    "collapsed": false
   },
   "source": [
    "keep features with at least 5% correlation"
   ]
  },
  {
   "cell_type": "code",
   "execution_count": 7,
   "metadata": {
    "collapsed": false
   },
   "outputs": [],
   "source": [
    "dfc1=pd.DataFrame(dfc[98])\n",
    "dfc1['corr']=dfc1[98]\n",
    "dfc1=dfc1[abs(dfc1['corr'])>=0.05]\n"
   ]
  },
  {
   "cell_type": "code",
   "execution_count": 8,
   "metadata": {
    "collapsed": false
   },
   "outputs": [
    {
     "name": "stdout",
     "output_type": "stream",
     "text": [
      "most correlated\n"
     ]
    },
    {
     "data": {
      "text/plain": [
       "(                 name    corr_x\n",
       " 43        PctKids2Par -0.738424\n",
       " 42         PctFam2Par -0.706667\n",
       " 4        racePctWhite -0.684770\n",
       " 44   PctYoungKids2Par -0.666059\n",
       " 45        PctTeen2Par -0.661582,                     name    corr_x\n",
       " 39          FemalePctDiv  0.556032\n",
       " 17           pctWPubAsst  0.574665\n",
       " 3           racepctblack  0.631264\n",
       " 48              PctIlleg  0.737957\n",
       " 98   ViolentCrimesPerPop  1.000000)"
      ]
     },
     "execution_count": 8,
     "metadata": {},
     "output_type": "execute_result"
    }
   ],
   "source": [
    "lbl = pd.DataFrame.from_csv(\"Book1.csv\", index_col=None,header=0)\n",
    "lbl['corr']=dfc1['corr']\n",
    "lbl=pd.merge(lbl,dfc1,left_index='True',right_index='True')\n",
    "lbl=lbl[['name','corr_x']]\n",
    "chkcorr=lbl.sort('corr_x')\n",
    "print 'most correlated' \n",
    "chkcorr.head(5), chkcorr.tail(5)\n"
   ]
  },
  {
   "cell_type": "code",
   "execution_count": 9,
   "metadata": {
    "collapsed": false
   },
   "outputs": [
    {
     "data": {
      "text/html": [
       "<div>\n",
       "<table border=\"1\" class=\"dataframe\">\n",
       "  <thead>\n",
       "    <tr style=\"text-align: right;\">\n",
       "      <th></th>\n",
       "      <th>name</th>\n",
       "      <th>corr_x</th>\n",
       "    </tr>\n",
       "  </thead>\n",
       "  <tbody>\n",
       "    <tr>\n",
       "      <th>1</th>\n",
       "      <td>population</td>\n",
       "      <td>0.367157</td>\n",
       "    </tr>\n",
       "    <tr>\n",
       "      <th>3</th>\n",
       "      <td>racepctblack</td>\n",
       "      <td>0.631264</td>\n",
       "    </tr>\n",
       "    <tr>\n",
       "      <th>4</th>\n",
       "      <td>racePctWhite</td>\n",
       "      <td>-0.684770</td>\n",
       "    </tr>\n",
       "    <tr>\n",
       "      <th>6</th>\n",
       "      <td>racePctHisp</td>\n",
       "      <td>0.293050</td>\n",
       "    </tr>\n",
       "    <tr>\n",
       "      <th>7</th>\n",
       "      <td>agePct12t21</td>\n",
       "      <td>0.060477</td>\n",
       "    </tr>\n",
       "    <tr>\n",
       "      <th>8</th>\n",
       "      <td>agePct12t29</td>\n",
       "      <td>0.153357</td>\n",
       "    </tr>\n",
       "    <tr>\n",
       "      <th>9</th>\n",
       "      <td>agePct16t24</td>\n",
       "      <td>0.099347</td>\n",
       "    </tr>\n",
       "    <tr>\n",
       "      <th>10</th>\n",
       "      <td>agePct65up</td>\n",
       "      <td>0.067171</td>\n",
       "    </tr>\n",
       "    <tr>\n",
       "      <th>11</th>\n",
       "      <td>pctUrban</td>\n",
       "      <td>0.082025</td>\n",
       "    </tr>\n",
       "    <tr>\n",
       "      <th>12</th>\n",
       "      <td>medIncome</td>\n",
       "      <td>-0.424221</td>\n",
       "    </tr>\n",
       "    <tr>\n",
       "      <th>13</th>\n",
       "      <td>pctWWage</td>\n",
       "      <td>-0.305500</td>\n",
       "    </tr>\n",
       "    <tr>\n",
       "      <th>14</th>\n",
       "      <td>pctWFarmSelf</td>\n",
       "      <td>-0.153124</td>\n",
       "    </tr>\n",
       "    <tr>\n",
       "      <th>15</th>\n",
       "      <td>pctWInvInc</td>\n",
       "      <td>-0.576324</td>\n",
       "    </tr>\n",
       "    <tr>\n",
       "      <th>16</th>\n",
       "      <td>pctWSocSec</td>\n",
       "      <td>0.117977</td>\n",
       "    </tr>\n",
       "    <tr>\n",
       "      <th>17</th>\n",
       "      <td>pctWPubAsst</td>\n",
       "      <td>0.574665</td>\n",
       "    </tr>\n",
       "    <tr>\n",
       "      <th>18</th>\n",
       "      <td>pctWRetire</td>\n",
       "      <td>-0.098442</td>\n",
       "    </tr>\n",
       "    <tr>\n",
       "      <th>19</th>\n",
       "      <td>medFamInc</td>\n",
       "      <td>-0.439108</td>\n",
       "    </tr>\n",
       "    <tr>\n",
       "      <th>20</th>\n",
       "      <td>perCapInc</td>\n",
       "      <td>-0.352085</td>\n",
       "    </tr>\n",
       "    <tr>\n",
       "      <th>21</th>\n",
       "      <td>whitePerCap</td>\n",
       "      <td>-0.209272</td>\n",
       "    </tr>\n",
       "    <tr>\n",
       "      <th>22</th>\n",
       "      <td>blackPerCap</td>\n",
       "      <td>-0.275391</td>\n",
       "    </tr>\n",
       "    <tr>\n",
       "      <th>23</th>\n",
       "      <td>indianPerCap</td>\n",
       "      <td>-0.090854</td>\n",
       "    </tr>\n",
       "    <tr>\n",
       "      <th>24</th>\n",
       "      <td>AsianPerCap</td>\n",
       "      <td>-0.155592</td>\n",
       "    </tr>\n",
       "    <tr>\n",
       "      <th>25</th>\n",
       "      <td>OtherPerCap</td>\n",
       "      <td>-0.126249</td>\n",
       "    </tr>\n",
       "    <tr>\n",
       "      <th>26</th>\n",
       "      <td>HispPerCap</td>\n",
       "      <td>-0.244553</td>\n",
       "    </tr>\n",
       "    <tr>\n",
       "      <th>27</th>\n",
       "      <td>PctPopUnderPov</td>\n",
       "      <td>0.521877</td>\n",
       "    </tr>\n",
       "    <tr>\n",
       "      <th>28</th>\n",
       "      <td>PctLess9thGrade</td>\n",
       "      <td>0.411096</td>\n",
       "    </tr>\n",
       "    <tr>\n",
       "      <th>29</th>\n",
       "      <td>PctNotHSGrad</td>\n",
       "      <td>0.483366</td>\n",
       "    </tr>\n",
       "    <tr>\n",
       "      <th>30</th>\n",
       "      <td>PctBSorMore</td>\n",
       "      <td>-0.314675</td>\n",
       "    </tr>\n",
       "    <tr>\n",
       "      <th>31</th>\n",
       "      <td>PctUnemployed</td>\n",
       "      <td>0.504235</td>\n",
       "    </tr>\n",
       "    <tr>\n",
       "      <th>32</th>\n",
       "      <td>PctEmploy</td>\n",
       "      <td>-0.331643</td>\n",
       "    </tr>\n",
       "    <tr>\n",
       "      <th>...</th>\n",
       "      <td>...</td>\n",
       "      <td>...</td>\n",
       "    </tr>\n",
       "    <tr>\n",
       "      <th>67</th>\n",
       "      <td>PctHousLess3BR</td>\n",
       "      <td>0.474490</td>\n",
       "    </tr>\n",
       "    <tr>\n",
       "      <th>68</th>\n",
       "      <td>MedNumBR</td>\n",
       "      <td>-0.357385</td>\n",
       "    </tr>\n",
       "    <tr>\n",
       "      <th>69</th>\n",
       "      <td>HousVacant</td>\n",
       "      <td>0.421396</td>\n",
       "    </tr>\n",
       "    <tr>\n",
       "      <th>70</th>\n",
       "      <td>PctHousOccup</td>\n",
       "      <td>-0.319010</td>\n",
       "    </tr>\n",
       "    <tr>\n",
       "      <th>71</th>\n",
       "      <td>PctHousOwnOcc</td>\n",
       "      <td>-0.470683</td>\n",
       "    </tr>\n",
       "    <tr>\n",
       "      <th>72</th>\n",
       "      <td>PctVacantBoarded</td>\n",
       "      <td>0.482816</td>\n",
       "    </tr>\n",
       "    <tr>\n",
       "      <th>74</th>\n",
       "      <td>MedYrHousBuilt</td>\n",
       "      <td>-0.109994</td>\n",
       "    </tr>\n",
       "    <tr>\n",
       "      <th>75</th>\n",
       "      <td>PctHousNoPhone</td>\n",
       "      <td>0.488243</td>\n",
       "    </tr>\n",
       "    <tr>\n",
       "      <th>76</th>\n",
       "      <td>PctWOFullPlumb</td>\n",
       "      <td>0.364454</td>\n",
       "    </tr>\n",
       "    <tr>\n",
       "      <th>77</th>\n",
       "      <td>OwnOccLowQuart</td>\n",
       "      <td>-0.210550</td>\n",
       "    </tr>\n",
       "    <tr>\n",
       "      <th>78</th>\n",
       "      <td>OwnOccMedVal</td>\n",
       "      <td>-0.190724</td>\n",
       "    </tr>\n",
       "    <tr>\n",
       "      <th>79</th>\n",
       "      <td>OwnOccHiQuart</td>\n",
       "      <td>-0.172122</td>\n",
       "    </tr>\n",
       "    <tr>\n",
       "      <th>80</th>\n",
       "      <td>RentLowQ</td>\n",
       "      <td>-0.251847</td>\n",
       "    </tr>\n",
       "    <tr>\n",
       "      <th>81</th>\n",
       "      <td>RentMedian</td>\n",
       "      <td>-0.240494</td>\n",
       "    </tr>\n",
       "    <tr>\n",
       "      <th>82</th>\n",
       "      <td>RentHighQ</td>\n",
       "      <td>-0.232290</td>\n",
       "    </tr>\n",
       "    <tr>\n",
       "      <th>83</th>\n",
       "      <td>MedRent</td>\n",
       "      <td>-0.239864</td>\n",
       "    </tr>\n",
       "    <tr>\n",
       "      <th>84</th>\n",
       "      <td>MedRentPctHousInc</td>\n",
       "      <td>0.325045</td>\n",
       "    </tr>\n",
       "    <tr>\n",
       "      <th>85</th>\n",
       "      <td>MedOwnCostPctInc</td>\n",
       "      <td>0.063847</td>\n",
       "    </tr>\n",
       "    <tr>\n",
       "      <th>86</th>\n",
       "      <td>MedOwnCostPctIncNoMtg</td>\n",
       "      <td>0.053763</td>\n",
       "    </tr>\n",
       "    <tr>\n",
       "      <th>87</th>\n",
       "      <td>NumInShelters</td>\n",
       "      <td>0.375754</td>\n",
       "    </tr>\n",
       "    <tr>\n",
       "      <th>88</th>\n",
       "      <td>NumStreet</td>\n",
       "      <td>0.340277</td>\n",
       "    </tr>\n",
       "    <tr>\n",
       "      <th>89</th>\n",
       "      <td>PctForeignBorn</td>\n",
       "      <td>0.194390</td>\n",
       "    </tr>\n",
       "    <tr>\n",
       "      <th>90</th>\n",
       "      <td>PctBornSameState</td>\n",
       "      <td>-0.077159</td>\n",
       "    </tr>\n",
       "    <tr>\n",
       "      <th>91</th>\n",
       "      <td>PctSameHouse85</td>\n",
       "      <td>-0.155388</td>\n",
       "    </tr>\n",
       "    <tr>\n",
       "      <th>92</th>\n",
       "      <td>PctSameCity85</td>\n",
       "      <td>0.075558</td>\n",
       "    </tr>\n",
       "    <tr>\n",
       "      <th>94</th>\n",
       "      <td>LandArea</td>\n",
       "      <td>0.196800</td>\n",
       "    </tr>\n",
       "    <tr>\n",
       "      <th>95</th>\n",
       "      <td>PopDens</td>\n",
       "      <td>0.281390</td>\n",
       "    </tr>\n",
       "    <tr>\n",
       "      <th>96</th>\n",
       "      <td>PctUsePubTrans</td>\n",
       "      <td>0.153829</td>\n",
       "    </tr>\n",
       "    <tr>\n",
       "      <th>97</th>\n",
       "      <td>LemasPctOfficDrugUn</td>\n",
       "      <td>0.348627</td>\n",
       "    </tr>\n",
       "    <tr>\n",
       "      <th>98</th>\n",
       "      <td>ViolentCrimesPerPop</td>\n",
       "      <td>1.000000</td>\n",
       "    </tr>\n",
       "  </tbody>\n",
       "</table>\n",
       "<p>91 rows × 2 columns</p>\n",
       "</div>"
      ],
      "text/plain": [
       "                      name    corr_x\n",
       "1               population  0.367157\n",
       "3             racepctblack  0.631264\n",
       "4             racePctWhite -0.684770\n",
       "6              racePctHisp  0.293050\n",
       "7              agePct12t21  0.060477\n",
       "8              agePct12t29  0.153357\n",
       "9              agePct16t24  0.099347\n",
       "10              agePct65up  0.067171\n",
       "11                pctUrban  0.082025\n",
       "12               medIncome -0.424221\n",
       "13                pctWWage -0.305500\n",
       "14            pctWFarmSelf -0.153124\n",
       "15              pctWInvInc -0.576324\n",
       "16              pctWSocSec  0.117977\n",
       "17             pctWPubAsst  0.574665\n",
       "18              pctWRetire -0.098442\n",
       "19               medFamInc -0.439108\n",
       "20               perCapInc -0.352085\n",
       "21             whitePerCap -0.209272\n",
       "22             blackPerCap -0.275391\n",
       "23            indianPerCap -0.090854\n",
       "24             AsianPerCap -0.155592\n",
       "25             OtherPerCap -0.126249\n",
       "26              HispPerCap -0.244553\n",
       "27          PctPopUnderPov  0.521877\n",
       "28         PctLess9thGrade  0.411096\n",
       "29            PctNotHSGrad  0.483366\n",
       "30             PctBSorMore -0.314675\n",
       "31           PctUnemployed  0.504235\n",
       "32               PctEmploy -0.331643\n",
       "..                     ...       ...\n",
       "67          PctHousLess3BR  0.474490\n",
       "68                MedNumBR -0.357385\n",
       "69              HousVacant  0.421396\n",
       "70            PctHousOccup -0.319010\n",
       "71           PctHousOwnOcc -0.470683\n",
       "72        PctVacantBoarded  0.482816\n",
       "74          MedYrHousBuilt -0.109994\n",
       "75          PctHousNoPhone  0.488243\n",
       "76          PctWOFullPlumb  0.364454\n",
       "77          OwnOccLowQuart -0.210550\n",
       "78            OwnOccMedVal -0.190724\n",
       "79           OwnOccHiQuart -0.172122\n",
       "80                RentLowQ -0.251847\n",
       "81              RentMedian -0.240494\n",
       "82               RentHighQ -0.232290\n",
       "83                 MedRent -0.239864\n",
       "84       MedRentPctHousInc  0.325045\n",
       "85        MedOwnCostPctInc  0.063847\n",
       "86   MedOwnCostPctIncNoMtg  0.053763\n",
       "87           NumInShelters  0.375754\n",
       "88               NumStreet  0.340277\n",
       "89          PctForeignBorn  0.194390\n",
       "90        PctBornSameState -0.077159\n",
       "91          PctSameHouse85 -0.155388\n",
       "92           PctSameCity85  0.075558\n",
       "94                LandArea  0.196800\n",
       "95                 PopDens  0.281390\n",
       "96          PctUsePubTrans  0.153829\n",
       "97     LemasPctOfficDrugUn  0.348627\n",
       "98     ViolentCrimesPerPop  1.000000\n",
       "\n",
       "[91 rows x 2 columns]"
      ]
     },
     "execution_count": 9,
     "metadata": {},
     "output_type": "execute_result"
    }
   ],
   "source": [
    "lbl"
   ]
  },
  {
   "cell_type": "code",
   "execution_count": 10,
   "metadata": {
    "collapsed": false
   },
   "outputs": [
    {
     "name": "stdout",
     "output_type": "stream",
     "text": [
      "Feature Ranking: \n",
      "1 feature no.47 (0.396200119816)\n",
      "2 feature no.42 (0.138395145931)\n",
      "3 feature no.41 (0.0372030752276)\n",
      "4 feature no.3 (0.033049035433)\n",
      "5 feature no.68 (0.0155039557881)\n",
      "6 feature no.65 (0.0125609019748)\n",
      "7 feature no.87 (0.0119404265263)\n",
      "8 feature no.23 (0.00955123144928)\n",
      "9 feature no.38 (0.00909026437313)\n",
      "10 feature no.14 (0.00870793770462)\n"
     ]
    }
   ],
   "source": [
    "from sklearn.ensemble import RandomForestRegressor\n",
    "dfa=np.array(df)\n",
    "target = np.array([x[-1] for x in dfa])\n",
    "features = np.array([x[:-1] for x in dfa])\n",
    "\n",
    "cfr = RandomForestRegressor(n_estimators=100, random_state=40)\n",
    "cfr.fit(features, target)\n",
    "importances = cfr.feature_importances_\n",
    "import numpy as np\n",
    "indices = np.argsort(importances)[::-1]\n",
    "print 'Feature Ranking: '\n",
    "for i in range(10):\n",
    "    print \"{} feature no.{} ({})\".format(i+1,indices[i],importances[indices[i]])"
   ]
  },
  {
   "cell_type": "code",
   "execution_count": 11,
   "metadata": {
    "collapsed": false
   },
   "outputs": [
    {
     "data": {
      "text/html": [
       "<table class=\"simpletable\">\n",
       "<caption>OLS Regression Results</caption>\n",
       "<tr>\n",
       "  <th>Dep. Variable:</th>            <td>y</td>        <th>  R-squared:         </th> <td>   0.694</td>\n",
       "</tr>\n",
       "<tr>\n",
       "  <th>Model:</th>                   <td>OLS</td>       <th>  Adj. R-squared:    </th> <td>   0.679</td>\n",
       "</tr>\n",
       "<tr>\n",
       "  <th>Method:</th>             <td>Least Squares</td>  <th>  F-statistic:       </th> <td>   44.41</td>\n",
       "</tr>\n",
       "<tr>\n",
       "  <th>Date:</th>             <td>Fri, 02 Oct 2015</td> <th>  Prob (F-statistic):</th>  <td>  0.00</td> \n",
       "</tr>\n",
       "<tr>\n",
       "  <th>Time:</th>                 <td>16:08:21</td>     <th>  Log-Likelihood:    </th> <td>  1257.7</td>\n",
       "</tr>\n",
       "<tr>\n",
       "  <th>No. Observations:</th>      <td>  1994</td>      <th>  AIC:               </th> <td>  -2319.</td>\n",
       "</tr>\n",
       "<tr>\n",
       "  <th>Df Residuals:</th>          <td>  1896</td>      <th>  BIC:               </th> <td>  -1771.</td>\n",
       "</tr>\n",
       "<tr>\n",
       "  <th>Df Model:</th>              <td>    97</td>      <th>                     </th>     <td> </td>   \n",
       "</tr>\n",
       "<tr>\n",
       "  <th>Covariance Type:</th>      <td>nonrobust</td>    <th>                     </th>     <td> </td>   \n",
       "</tr>\n",
       "</table>\n",
       "<table class=\"simpletable\">\n",
       "<tr>\n",
       "    <td></td>       <th>coef</th>     <th>std err</th>      <th>t</th>      <th>P>|t|</th> <th>[95.0% Conf. Int.]</th> \n",
       "</tr>\n",
       "<tr>\n",
       "  <th>const</th> <td>    0.5466</td> <td>    0.202</td> <td>    2.704</td> <td> 0.007</td> <td>    0.150     0.943</td>\n",
       "</tr>\n",
       "<tr>\n",
       "  <th>x1</th>    <td>   -0.1138</td> <td>    0.098</td> <td>   -1.160</td> <td> 0.246</td> <td>   -0.306     0.079</td>\n",
       "</tr>\n",
       "<tr>\n",
       "  <th>x2</th>    <td>   -0.0267</td> <td>    0.086</td> <td>   -0.309</td> <td> 0.757</td> <td>   -0.196     0.143</td>\n",
       "</tr>\n",
       "<tr>\n",
       "  <th>x3</th>    <td>    0.2001</td> <td>    0.051</td> <td>    3.926</td> <td> 0.000</td> <td>    0.100     0.300</td>\n",
       "</tr>\n",
       "<tr>\n",
       "  <th>x4</th>    <td>   -0.0517</td> <td>    0.059</td> <td>   -0.883</td> <td> 0.378</td> <td>   -0.167     0.063</td>\n",
       "</tr>\n",
       "<tr>\n",
       "  <th>x5</th>    <td>   -0.0136</td> <td>    0.034</td> <td>   -0.396</td> <td> 0.692</td> <td>   -0.081     0.054</td>\n",
       "</tr>\n",
       "<tr>\n",
       "  <th>x6</th>    <td>    0.0610</td> <td>    0.053</td> <td>    1.143</td> <td> 0.253</td> <td>   -0.044     0.166</td>\n",
       "</tr>\n",
       "<tr>\n",
       "  <th>x7</th>    <td>    0.1055</td> <td>    0.106</td> <td>    0.997</td> <td> 0.319</td> <td>   -0.102     0.313</td>\n",
       "</tr>\n",
       "<tr>\n",
       "  <th>x8</th>    <td>   -0.2354</td> <td>    0.156</td> <td>   -1.507</td> <td> 0.132</td> <td>   -0.542     0.071</td>\n",
       "</tr>\n",
       "<tr>\n",
       "  <th>x9</th>    <td>   -0.1229</td> <td>    0.164</td> <td>   -0.751</td> <td> 0.453</td> <td>   -0.444     0.198</td>\n",
       "</tr>\n",
       "<tr>\n",
       "  <th>x10</th>   <td>    0.0456</td> <td>    0.103</td> <td>    0.440</td> <td> 0.660</td> <td>   -0.157     0.249</td>\n",
       "</tr>\n",
       "<tr>\n",
       "  <th>x11</th>   <td>    0.0391</td> <td>    0.010</td> <td>    3.996</td> <td> 0.000</td> <td>    0.020     0.058</td>\n",
       "</tr>\n",
       "<tr>\n",
       "  <th>x12</th>   <td>   -0.1947</td> <td>    0.173</td> <td>   -1.127</td> <td> 0.260</td> <td>   -0.533     0.144</td>\n",
       "</tr>\n",
       "<tr>\n",
       "  <th>x13</th>   <td>   -0.1895</td> <td>    0.089</td> <td>   -2.131</td> <td> 0.033</td> <td>   -0.364    -0.015</td>\n",
       "</tr>\n",
       "<tr>\n",
       "  <th>x14</th>   <td>    0.0460</td> <td>    0.020</td> <td>    2.291</td> <td> 0.022</td> <td>    0.007     0.085</td>\n",
       "</tr>\n",
       "<tr>\n",
       "  <th>x15</th>   <td>   -0.1761</td> <td>    0.068</td> <td>   -2.606</td> <td> 0.009</td> <td>   -0.309    -0.044</td>\n",
       "</tr>\n",
       "<tr>\n",
       "  <th>x16</th>   <td>    0.0869</td> <td>    0.107</td> <td>    0.813</td> <td> 0.416</td> <td>   -0.123     0.297</td>\n",
       "</tr>\n",
       "<tr>\n",
       "  <th>x17</th>   <td>    0.0081</td> <td>    0.046</td> <td>    0.175</td> <td> 0.861</td> <td>   -0.082     0.098</td>\n",
       "</tr>\n",
       "<tr>\n",
       "  <th>x18</th>   <td>   -0.0871</td> <td>    0.037</td> <td>   -2.367</td> <td> 0.018</td> <td>   -0.159    -0.015</td>\n",
       "</tr>\n",
       "<tr>\n",
       "  <th>x19</th>   <td>    0.2836</td> <td>    0.160</td> <td>    1.770</td> <td> 0.077</td> <td>   -0.031     0.598</td>\n",
       "</tr>\n",
       "<tr>\n",
       "  <th>x20</th>   <td>    0.1265</td> <td>    0.188</td> <td>    0.674</td> <td> 0.500</td> <td>   -0.241     0.494</td>\n",
       "</tr>\n",
       "<tr>\n",
       "  <th>x21</th>   <td>   -0.3768</td> <td>    0.151</td> <td>   -2.495</td> <td> 0.013</td> <td>   -0.673    -0.081</td>\n",
       "</tr>\n",
       "<tr>\n",
       "  <th>x22</th>   <td>   -0.0301</td> <td>    0.025</td> <td>   -1.184</td> <td> 0.237</td> <td>   -0.080     0.020</td>\n",
       "</tr>\n",
       "<tr>\n",
       "  <th>x23</th>   <td>   -0.0355</td> <td>    0.019</td> <td>   -1.829</td> <td> 0.068</td> <td>   -0.074     0.003</td>\n",
       "</tr>\n",
       "<tr>\n",
       "  <th>x24</th>   <td>    0.0220</td> <td>    0.019</td> <td>    1.160</td> <td> 0.246</td> <td>   -0.015     0.059</td>\n",
       "</tr>\n",
       "<tr>\n",
       "  <th>x25</th>   <td>    0.0465</td> <td>    0.019</td> <td>    2.486</td> <td> 0.013</td> <td>    0.010     0.083</td>\n",
       "</tr>\n",
       "<tr>\n",
       "  <th>x26</th>   <td>    0.0311</td> <td>    0.025</td> <td>    1.252</td> <td> 0.211</td> <td>   -0.018     0.080</td>\n",
       "</tr>\n",
       "<tr>\n",
       "  <th>x27</th>   <td>   -0.1637</td> <td>    0.060</td> <td>   -2.714</td> <td> 0.007</td> <td>   -0.282    -0.045</td>\n",
       "</tr>\n",
       "<tr>\n",
       "  <th>x28</th>   <td>   -0.1014</td> <td>    0.068</td> <td>   -1.498</td> <td> 0.134</td> <td>   -0.234     0.031</td>\n",
       "</tr>\n",
       "<tr>\n",
       "  <th>x29</th>   <td>    0.0507</td> <td>    0.096</td> <td>    0.531</td> <td> 0.596</td> <td>   -0.137     0.238</td>\n",
       "</tr>\n",
       "<tr>\n",
       "  <th>x30</th>   <td>    0.0611</td> <td>    0.077</td> <td>    0.790</td> <td> 0.430</td> <td>   -0.091     0.213</td>\n",
       "</tr>\n",
       "<tr>\n",
       "  <th>x31</th>   <td>    0.0012</td> <td>    0.041</td> <td>    0.028</td> <td> 0.977</td> <td>   -0.079     0.081</td>\n",
       "</tr>\n",
       "<tr>\n",
       "  <th>x32</th>   <td>    0.2466</td> <td>    0.079</td> <td>    3.125</td> <td> 0.002</td> <td>    0.092     0.401</td>\n",
       "</tr>\n",
       "<tr>\n",
       "  <th>x33</th>   <td>   -0.0654</td> <td>    0.032</td> <td>   -2.041</td> <td> 0.041</td> <td>   -0.128    -0.003</td>\n",
       "</tr>\n",
       "<tr>\n",
       "  <th>x34</th>   <td>   -0.0212</td> <td>    0.041</td> <td>   -0.519</td> <td> 0.604</td> <td>   -0.101     0.059</td>\n",
       "</tr>\n",
       "<tr>\n",
       "  <th>x35</th>   <td>    0.0733</td> <td>    0.055</td> <td>    1.335</td> <td> 0.182</td> <td>   -0.034     0.181</td>\n",
       "</tr>\n",
       "<tr>\n",
       "  <th>x36</th>   <td>    0.1111</td> <td>    0.086</td> <td>    1.287</td> <td> 0.198</td> <td>   -0.058     0.280</td>\n",
       "</tr>\n",
       "<tr>\n",
       "  <th>x37</th>   <td>    0.4454</td> <td>    0.247</td> <td>    1.801</td> <td> 0.072</td> <td>   -0.040     0.930</td>\n",
       "</tr>\n",
       "<tr>\n",
       "  <th>x38</th>   <td>    0.2301</td> <td>    0.068</td> <td>    3.388</td> <td> 0.001</td> <td>    0.097     0.363</td>\n",
       "</tr>\n",
       "<tr>\n",
       "  <th>x39</th>   <td>    0.1498</td> <td>    0.309</td> <td>    0.484</td> <td> 0.628</td> <td>   -0.457     0.756</td>\n",
       "</tr>\n",
       "<tr>\n",
       "  <th>x40</th>   <td>   -0.5317</td> <td>    0.518</td> <td>   -1.026</td> <td> 0.305</td> <td>   -1.548     0.485</td>\n",
       "</tr>\n",
       "<tr>\n",
       "  <th>x41</th>   <td>   -0.1331</td> <td>    0.168</td> <td>   -0.790</td> <td> 0.429</td> <td>   -0.463     0.197</td>\n",
       "</tr>\n",
       "<tr>\n",
       "  <th>x42</th>   <td>    0.0453</td> <td>    0.159</td> <td>    0.286</td> <td> 0.775</td> <td>   -0.266     0.356</td>\n",
       "</tr>\n",
       "<tr>\n",
       "  <th>x43</th>   <td>   -0.3446</td> <td>    0.155</td> <td>   -2.230</td> <td> 0.026</td> <td>   -0.648    -0.042</td>\n",
       "</tr>\n",
       "<tr>\n",
       "  <th>x44</th>   <td>   -0.0301</td> <td>    0.048</td> <td>   -0.624</td> <td> 0.533</td> <td>   -0.125     0.064</td>\n",
       "</tr>\n",
       "<tr>\n",
       "  <th>x45</th>   <td>   -0.0020</td> <td>    0.043</td> <td>   -0.046</td> <td> 0.963</td> <td>   -0.086     0.082</td>\n",
       "</tr>\n",
       "<tr>\n",
       "  <th>x46</th>   <td>    0.0600</td> <td>    0.047</td> <td>    1.277</td> <td> 0.202</td> <td>   -0.032     0.152</td>\n",
       "</tr>\n",
       "<tr>\n",
       "  <th>x47</th>   <td>   -0.1875</td> <td>    0.054</td> <td>   -3.484</td> <td> 0.001</td> <td>   -0.293    -0.082</td>\n",
       "</tr>\n",
       "<tr>\n",
       "  <th>x48</th>   <td>    0.1097</td> <td>    0.047</td> <td>    2.336</td> <td> 0.020</td> <td>    0.018     0.202</td>\n",
       "</tr>\n",
       "<tr>\n",
       "  <th>x49</th>   <td>   -0.1289</td> <td>    0.076</td> <td>   -1.693</td> <td> 0.091</td> <td>   -0.278     0.020</td>\n",
       "</tr>\n",
       "<tr>\n",
       "  <th>x50</th>   <td>    0.0227</td> <td>    0.041</td> <td>    0.553</td> <td> 0.580</td> <td>   -0.058     0.103</td>\n",
       "</tr>\n",
       "<tr>\n",
       "  <th>x51</th>   <td>    0.0330</td> <td>    0.067</td> <td>    0.497</td> <td> 0.619</td> <td>   -0.097     0.164</td>\n",
       "</tr>\n",
       "<tr>\n",
       "  <th>x52</th>   <td>   -0.0775</td> <td>    0.077</td> <td>   -1.004</td> <td> 0.316</td> <td>   -0.229     0.074</td>\n",
       "</tr>\n",
       "<tr>\n",
       "  <th>x53</th>   <td>    0.0405</td> <td>    0.060</td> <td>    0.680</td> <td> 0.497</td> <td>   -0.076     0.157</td>\n",
       "</tr>\n",
       "<tr>\n",
       "  <th>x54</th>   <td>   -0.0210</td> <td>    0.122</td> <td>   -0.172</td> <td> 0.864</td> <td>   -0.261     0.219</td>\n",
       "</tr>\n",
       "<tr>\n",
       "  <th>x55</th>   <td>   -0.2153</td> <td>    0.222</td> <td>   -0.972</td> <td> 0.331</td> <td>   -0.650     0.219</td>\n",
       "</tr>\n",
       "<tr>\n",
       "  <th>x56</th>   <td>    0.4175</td> <td>    0.273</td> <td>    1.530</td> <td> 0.126</td> <td>   -0.118     0.953</td>\n",
       "</tr>\n",
       "<tr>\n",
       "  <th>x57</th>   <td>   -0.1817</td> <td>    0.219</td> <td>   -0.831</td> <td> 0.406</td> <td>   -0.611     0.247</td>\n",
       "</tr>\n",
       "<tr>\n",
       "  <th>x58</th>   <td>   -0.0276</td> <td>    0.070</td> <td>   -0.392</td> <td> 0.695</td> <td>   -0.166     0.110</td>\n",
       "</tr>\n",
       "<tr>\n",
       "  <th>x59</th>   <td>   -0.1528</td> <td>    0.068</td> <td>   -2.239</td> <td> 0.025</td> <td>   -0.287    -0.019</td>\n",
       "</tr>\n",
       "<tr>\n",
       "  <th>x60</th>   <td>    0.0465</td> <td>    0.226</td> <td>    0.206</td> <td> 0.837</td> <td>   -0.397     0.490</td>\n",
       "</tr>\n",
       "<tr>\n",
       "  <th>x61</th>   <td>   -0.1970</td> <td>    0.237</td> <td>   -0.832</td> <td> 0.406</td> <td>   -0.661     0.267</td>\n",
       "</tr>\n",
       "<tr>\n",
       "  <th>x62</th>   <td>    0.6547</td> <td>    0.249</td> <td>    2.625</td> <td> 0.009</td> <td>    0.165     1.144</td>\n",
       "</tr>\n",
       "<tr>\n",
       "  <th>x63</th>   <td>   -0.0981</td> <td>    0.167</td> <td>   -0.588</td> <td> 0.557</td> <td>   -0.426     0.229</td>\n",
       "</tr>\n",
       "<tr>\n",
       "  <th>x64</th>   <td>   -0.2530</td> <td>    0.081</td> <td>   -3.129</td> <td> 0.002</td> <td>   -0.411    -0.094</td>\n",
       "</tr>\n",
       "<tr>\n",
       "  <th>x65</th>   <td>   -0.6378</td> <td>    0.357</td> <td>   -1.785</td> <td> 0.074</td> <td>   -1.339     0.063</td>\n",
       "</tr>\n",
       "<tr>\n",
       "  <th>x66</th>   <td>    0.2079</td> <td>    0.075</td> <td>    2.759</td> <td> 0.006</td> <td>    0.060     0.356</td>\n",
       "</tr>\n",
       "<tr>\n",
       "  <th>x67</th>   <td>    0.1017</td> <td>    0.059</td> <td>    1.731</td> <td> 0.084</td> <td>   -0.014     0.217</td>\n",
       "</tr>\n",
       "<tr>\n",
       "  <th>x68</th>   <td>    0.0291</td> <td>    0.019</td> <td>    1.499</td> <td> 0.134</td> <td>   -0.009     0.067</td>\n",
       "</tr>\n",
       "<tr>\n",
       "  <th>x69</th>   <td>    0.1676</td> <td>    0.070</td> <td>    2.385</td> <td> 0.017</td> <td>    0.030     0.305</td>\n",
       "</tr>\n",
       "<tr>\n",
       "  <th>x70</th>   <td>   -0.0468</td> <td>    0.031</td> <td>   -1.523</td> <td> 0.128</td> <td>   -0.107     0.013</td>\n",
       "</tr>\n",
       "<tr>\n",
       "  <th>x71</th>   <td>    0.5214</td> <td>    0.374</td> <td>    1.395</td> <td> 0.163</td> <td>   -0.212     1.254</td>\n",
       "</tr>\n",
       "<tr>\n",
       "  <th>x72</th>   <td>    0.0508</td> <td>    0.021</td> <td>    2.389</td> <td> 0.017</td> <td>    0.009     0.093</td>\n",
       "</tr>\n",
       "<tr>\n",
       "  <th>x73</th>   <td>   -0.0784</td> <td>    0.025</td> <td>   -3.123</td> <td> 0.002</td> <td>   -0.128    -0.029</td>\n",
       "</tr>\n",
       "<tr>\n",
       "  <th>x74</th>   <td>   -0.0235</td> <td>    0.029</td> <td>   -0.811</td> <td> 0.417</td> <td>   -0.080     0.033</td>\n",
       "</tr>\n",
       "<tr>\n",
       "  <th>x75</th>   <td>    0.0062</td> <td>    0.035</td> <td>    0.177</td> <td> 0.860</td> <td>   -0.062     0.075</td>\n",
       "</tr>\n",
       "<tr>\n",
       "  <th>x76</th>   <td>   -0.0147</td> <td>    0.020</td> <td>   -0.728</td> <td> 0.467</td> <td>   -0.054     0.025</td>\n",
       "</tr>\n",
       "<tr>\n",
       "  <th>x77</th>   <td>   -0.3181</td> <td>    0.203</td> <td>   -1.566</td> <td> 0.118</td> <td>   -0.717     0.080</td>\n",
       "</tr>\n",
       "<tr>\n",
       "  <th>x78</th>   <td>    0.2283</td> <td>    0.307</td> <td>    0.745</td> <td> 0.457</td> <td>   -0.373     0.829</td>\n",
       "</tr>\n",
       "<tr>\n",
       "  <th>x79</th>   <td>    0.0197</td> <td>    0.164</td> <td>    0.120</td> <td> 0.904</td> <td>   -0.302     0.342</td>\n",
       "</tr>\n",
       "<tr>\n",
       "  <th>x80</th>   <td>   -0.2401</td> <td>    0.067</td> <td>   -3.580</td> <td> 0.000</td> <td>   -0.372    -0.109</td>\n",
       "</tr>\n",
       "<tr>\n",
       "  <th>x81</th>   <td>   -0.0157</td> <td>    0.157</td> <td>   -0.100</td> <td> 0.920</td> <td>   -0.323     0.291</td>\n",
       "</tr>\n",
       "<tr>\n",
       "  <th>x82</th>   <td>   -0.0682</td> <td>    0.086</td> <td>   -0.792</td> <td> 0.428</td> <td>   -0.237     0.101</td>\n",
       "</tr>\n",
       "<tr>\n",
       "  <th>x83</th>   <td>    0.3692</td> <td>    0.129</td> <td>    2.854</td> <td> 0.004</td> <td>    0.115     0.623</td>\n",
       "</tr>\n",
       "<tr>\n",
       "  <th>x84</th>   <td>    0.0441</td> <td>    0.033</td> <td>    1.353</td> <td> 0.176</td> <td>   -0.020     0.108</td>\n",
       "</tr>\n",
       "<tr>\n",
       "  <th>x85</th>   <td>   -0.0418</td> <td>    0.034</td> <td>   -1.215</td> <td> 0.224</td> <td>   -0.109     0.026</td>\n",
       "</tr>\n",
       "<tr>\n",
       "  <th>x86</th>   <td>   -0.0828</td> <td>    0.024</td> <td>   -3.383</td> <td> 0.001</td> <td>   -0.131    -0.035</td>\n",
       "</tr>\n",
       "<tr>\n",
       "  <th>x87</th>   <td>    0.1237</td> <td>    0.062</td> <td>    1.984</td> <td> 0.047</td> <td>    0.001     0.246</td>\n",
       "</tr>\n",
       "<tr>\n",
       "  <th>x88</th>   <td>    0.1766</td> <td>    0.047</td> <td>    3.763</td> <td> 0.000</td> <td>    0.085     0.269</td>\n",
       "</tr>\n",
       "<tr>\n",
       "  <th>x89</th>   <td>    0.1273</td> <td>    0.090</td> <td>    1.416</td> <td> 0.157</td> <td>   -0.049     0.303</td>\n",
       "</tr>\n",
       "<tr>\n",
       "  <th>x90</th>   <td>    0.0064</td> <td>    0.042</td> <td>    0.155</td> <td> 0.877</td> <td>   -0.075     0.088</td>\n",
       "</tr>\n",
       "<tr>\n",
       "  <th>x91</th>   <td>   -0.0193</td> <td>    0.058</td> <td>   -0.336</td> <td> 0.737</td> <td>   -0.132     0.094</td>\n",
       "</tr>\n",
       "<tr>\n",
       "  <th>x92</th>   <td>    0.0277</td> <td>    0.038</td> <td>    0.729</td> <td> 0.466</td> <td>   -0.047     0.102</td>\n",
       "</tr>\n",
       "<tr>\n",
       "  <th>x93</th>   <td>    0.0138</td> <td>    0.043</td> <td>    0.324</td> <td> 0.746</td> <td>   -0.070     0.098</td>\n",
       "</tr>\n",
       "<tr>\n",
       "  <th>x94</th>   <td>    0.0333</td> <td>    0.048</td> <td>    0.691</td> <td> 0.489</td> <td>   -0.061     0.128</td>\n",
       "</tr>\n",
       "<tr>\n",
       "  <th>x95</th>   <td>   -0.0135</td> <td>    0.030</td> <td>   -0.445</td> <td> 0.656</td> <td>   -0.073     0.046</td>\n",
       "</tr>\n",
       "<tr>\n",
       "  <th>x96</th>   <td>   -0.0435</td> <td>    0.023</td> <td>   -1.888</td> <td> 0.059</td> <td>   -0.089     0.002</td>\n",
       "</tr>\n",
       "<tr>\n",
       "  <th>x97</th>   <td>    0.0272</td> <td>    0.015</td> <td>    1.774</td> <td> 0.076</td> <td>   -0.003     0.057</td>\n",
       "</tr>\n",
       "</table>\n",
       "<table class=\"simpletable\">\n",
       "<tr>\n",
       "  <th>Omnibus:</th>       <td>384.545</td> <th>  Durbin-Watson:     </th> <td>   1.998</td> \n",
       "</tr>\n",
       "<tr>\n",
       "  <th>Prob(Omnibus):</th> <td> 0.000</td>  <th>  Jarque-Bera (JB):  </th> <td>1230.787</td> \n",
       "</tr>\n",
       "<tr>\n",
       "  <th>Skew:</th>          <td> 0.959</td>  <th>  Prob(JB):          </th> <td>5.47e-268</td>\n",
       "</tr>\n",
       "<tr>\n",
       "  <th>Kurtosis:</th>      <td> 6.337</td>  <th>  Cond. No.          </th> <td>    914.</td> \n",
       "</tr>\n",
       "</table>"
      ],
      "text/plain": [
       "<class 'statsmodels.iolib.summary.Summary'>\n",
       "\"\"\"\n",
       "                            OLS Regression Results                            \n",
       "==============================================================================\n",
       "Dep. Variable:                      y   R-squared:                       0.694\n",
       "Model:                            OLS   Adj. R-squared:                  0.679\n",
       "Method:                 Least Squares   F-statistic:                     44.41\n",
       "Date:                Fri, 02 Oct 2015   Prob (F-statistic):               0.00\n",
       "Time:                        16:08:21   Log-Likelihood:                 1257.7\n",
       "No. Observations:                1994   AIC:                            -2319.\n",
       "Df Residuals:                    1896   BIC:                            -1771.\n",
       "Df Model:                          97                                         \n",
       "Covariance Type:            nonrobust                                         \n",
       "==============================================================================\n",
       "                 coef    std err          t      P>|t|      [95.0% Conf. Int.]\n",
       "------------------------------------------------------------------------------\n",
       "const          0.5466      0.202      2.704      0.007         0.150     0.943\n",
       "x1            -0.1138      0.098     -1.160      0.246        -0.306     0.079\n",
       "x2            -0.0267      0.086     -0.309      0.757        -0.196     0.143\n",
       "x3             0.2001      0.051      3.926      0.000         0.100     0.300\n",
       "x4            -0.0517      0.059     -0.883      0.378        -0.167     0.063\n",
       "x5            -0.0136      0.034     -0.396      0.692        -0.081     0.054\n",
       "x6             0.0610      0.053      1.143      0.253        -0.044     0.166\n",
       "x7             0.1055      0.106      0.997      0.319        -0.102     0.313\n",
       "x8            -0.2354      0.156     -1.507      0.132        -0.542     0.071\n",
       "x9            -0.1229      0.164     -0.751      0.453        -0.444     0.198\n",
       "x10            0.0456      0.103      0.440      0.660        -0.157     0.249\n",
       "x11            0.0391      0.010      3.996      0.000         0.020     0.058\n",
       "x12           -0.1947      0.173     -1.127      0.260        -0.533     0.144\n",
       "x13           -0.1895      0.089     -2.131      0.033        -0.364    -0.015\n",
       "x14            0.0460      0.020      2.291      0.022         0.007     0.085\n",
       "x15           -0.1761      0.068     -2.606      0.009        -0.309    -0.044\n",
       "x16            0.0869      0.107      0.813      0.416        -0.123     0.297\n",
       "x17            0.0081      0.046      0.175      0.861        -0.082     0.098\n",
       "x18           -0.0871      0.037     -2.367      0.018        -0.159    -0.015\n",
       "x19            0.2836      0.160      1.770      0.077        -0.031     0.598\n",
       "x20            0.1265      0.188      0.674      0.500        -0.241     0.494\n",
       "x21           -0.3768      0.151     -2.495      0.013        -0.673    -0.081\n",
       "x22           -0.0301      0.025     -1.184      0.237        -0.080     0.020\n",
       "x23           -0.0355      0.019     -1.829      0.068        -0.074     0.003\n",
       "x24            0.0220      0.019      1.160      0.246        -0.015     0.059\n",
       "x25            0.0465      0.019      2.486      0.013         0.010     0.083\n",
       "x26            0.0311      0.025      1.252      0.211        -0.018     0.080\n",
       "x27           -0.1637      0.060     -2.714      0.007        -0.282    -0.045\n",
       "x28           -0.1014      0.068     -1.498      0.134        -0.234     0.031\n",
       "x29            0.0507      0.096      0.531      0.596        -0.137     0.238\n",
       "x30            0.0611      0.077      0.790      0.430        -0.091     0.213\n",
       "x31            0.0012      0.041      0.028      0.977        -0.079     0.081\n",
       "x32            0.2466      0.079      3.125      0.002         0.092     0.401\n",
       "x33           -0.0654      0.032     -2.041      0.041        -0.128    -0.003\n",
       "x34           -0.0212      0.041     -0.519      0.604        -0.101     0.059\n",
       "x35            0.0733      0.055      1.335      0.182        -0.034     0.181\n",
       "x36            0.1111      0.086      1.287      0.198        -0.058     0.280\n",
       "x37            0.4454      0.247      1.801      0.072        -0.040     0.930\n",
       "x38            0.2301      0.068      3.388      0.001         0.097     0.363\n",
       "x39            0.1498      0.309      0.484      0.628        -0.457     0.756\n",
       "x40           -0.5317      0.518     -1.026      0.305        -1.548     0.485\n",
       "x41           -0.1331      0.168     -0.790      0.429        -0.463     0.197\n",
       "x42            0.0453      0.159      0.286      0.775        -0.266     0.356\n",
       "x43           -0.3446      0.155     -2.230      0.026        -0.648    -0.042\n",
       "x44           -0.0301      0.048     -0.624      0.533        -0.125     0.064\n",
       "x45           -0.0020      0.043     -0.046      0.963        -0.086     0.082\n",
       "x46            0.0600      0.047      1.277      0.202        -0.032     0.152\n",
       "x47           -0.1875      0.054     -3.484      0.001        -0.293    -0.082\n",
       "x48            0.1097      0.047      2.336      0.020         0.018     0.202\n",
       "x49           -0.1289      0.076     -1.693      0.091        -0.278     0.020\n",
       "x50            0.0227      0.041      0.553      0.580        -0.058     0.103\n",
       "x51            0.0330      0.067      0.497      0.619        -0.097     0.164\n",
       "x52           -0.0775      0.077     -1.004      0.316        -0.229     0.074\n",
       "x53            0.0405      0.060      0.680      0.497        -0.076     0.157\n",
       "x54           -0.0210      0.122     -0.172      0.864        -0.261     0.219\n",
       "x55           -0.2153      0.222     -0.972      0.331        -0.650     0.219\n",
       "x56            0.4175      0.273      1.530      0.126        -0.118     0.953\n",
       "x57           -0.1817      0.219     -0.831      0.406        -0.611     0.247\n",
       "x58           -0.0276      0.070     -0.392      0.695        -0.166     0.110\n",
       "x59           -0.1528      0.068     -2.239      0.025        -0.287    -0.019\n",
       "x60            0.0465      0.226      0.206      0.837        -0.397     0.490\n",
       "x61           -0.1970      0.237     -0.832      0.406        -0.661     0.267\n",
       "x62            0.6547      0.249      2.625      0.009         0.165     1.144\n",
       "x63           -0.0981      0.167     -0.588      0.557        -0.426     0.229\n",
       "x64           -0.2530      0.081     -3.129      0.002        -0.411    -0.094\n",
       "x65           -0.6378      0.357     -1.785      0.074        -1.339     0.063\n",
       "x66            0.2079      0.075      2.759      0.006         0.060     0.356\n",
       "x67            0.1017      0.059      1.731      0.084        -0.014     0.217\n",
       "x68            0.0291      0.019      1.499      0.134        -0.009     0.067\n",
       "x69            0.1676      0.070      2.385      0.017         0.030     0.305\n",
       "x70           -0.0468      0.031     -1.523      0.128        -0.107     0.013\n",
       "x71            0.5214      0.374      1.395      0.163        -0.212     1.254\n",
       "x72            0.0508      0.021      2.389      0.017         0.009     0.093\n",
       "x73           -0.0784      0.025     -3.123      0.002        -0.128    -0.029\n",
       "x74           -0.0235      0.029     -0.811      0.417        -0.080     0.033\n",
       "x75            0.0062      0.035      0.177      0.860        -0.062     0.075\n",
       "x76           -0.0147      0.020     -0.728      0.467        -0.054     0.025\n",
       "x77           -0.3181      0.203     -1.566      0.118        -0.717     0.080\n",
       "x78            0.2283      0.307      0.745      0.457        -0.373     0.829\n",
       "x79            0.0197      0.164      0.120      0.904        -0.302     0.342\n",
       "x80           -0.2401      0.067     -3.580      0.000        -0.372    -0.109\n",
       "x81           -0.0157      0.157     -0.100      0.920        -0.323     0.291\n",
       "x82           -0.0682      0.086     -0.792      0.428        -0.237     0.101\n",
       "x83            0.3692      0.129      2.854      0.004         0.115     0.623\n",
       "x84            0.0441      0.033      1.353      0.176        -0.020     0.108\n",
       "x85           -0.0418      0.034     -1.215      0.224        -0.109     0.026\n",
       "x86           -0.0828      0.024     -3.383      0.001        -0.131    -0.035\n",
       "x87            0.1237      0.062      1.984      0.047         0.001     0.246\n",
       "x88            0.1766      0.047      3.763      0.000         0.085     0.269\n",
       "x89            0.1273      0.090      1.416      0.157        -0.049     0.303\n",
       "x90            0.0064      0.042      0.155      0.877        -0.075     0.088\n",
       "x91           -0.0193      0.058     -0.336      0.737        -0.132     0.094\n",
       "x92            0.0277      0.038      0.729      0.466        -0.047     0.102\n",
       "x93            0.0138      0.043      0.324      0.746        -0.070     0.098\n",
       "x94            0.0333      0.048      0.691      0.489        -0.061     0.128\n",
       "x95           -0.0135      0.030     -0.445      0.656        -0.073     0.046\n",
       "x96           -0.0435      0.023     -1.888      0.059        -0.089     0.002\n",
       "x97            0.0272      0.015      1.774      0.076        -0.003     0.057\n",
       "==============================================================================\n",
       "Omnibus:                      384.545   Durbin-Watson:                   1.998\n",
       "Prob(Omnibus):                  0.000   Jarque-Bera (JB):             1230.787\n",
       "Skew:                           0.959   Prob(JB):                    5.47e-268\n",
       "Kurtosis:                       6.337   Cond. No.                         914.\n",
       "==============================================================================\n",
       "\n",
       "Warnings:\n",
       "[1] Standard Errors assume that the covariance matrix of the errors is correctly specified.\n",
       "\"\"\""
      ]
     },
     "execution_count": 11,
     "metadata": {},
     "output_type": "execute_result"
    }
   ],
   "source": [
    "dfa=np.array(df)\n",
    "target = np.array([x[-1] for x in dfa])\n",
    "features = np.array([x[:-1] for x in dfa])\n",
    "import statsmodels.api as sm\n",
    "features = sm.add_constant(features)\n",
    "est = sm.OLS(target, features).fit()\n",
    "est.summary()"
   ]
  },
  {
   "cell_type": "markdown",
   "metadata": {},
   "source": [
    "Scatter plots for features(high correlation or high importance) showing significant relationships"
   ]
  },
  {
   "cell_type": "code",
   "execution_count": 473,
   "metadata": {
    "collapsed": false
   },
   "outputs": [
    {
     "data": {
      "text/plain": [
       "<matplotlib.text.Text at 0x2905a0f0>"
      ]
     },
     "execution_count": 473,
     "metadata": {},
     "output_type": "execute_result"
    },
    {
     "data": {
      "image/png": "[encoded data removed]",
      "text/plain": [
       "<matplotlib.figure.Figure at 0x291e33c8>"
      ]
     },
     "metadata": {},
     "output_type": "display_data"
    }
   ],
   "source": [
    "plt.scatter(df[48],df[98])\n",
    "plt.xlabel('percentage of kids born to never married')\n",
    "plt.ylabel(' total number of violent crimes per 100K popuation')"
   ]
  },
  {
   "cell_type": "markdown",
   "metadata": {},
   "source": [
    "Shows a positive correlation and is also statistically significant"
   ]
  },
  {
   "cell_type": "code",
   "execution_count": 474,
   "metadata": {
    "collapsed": false
   },
   "outputs": [
    {
     "data": {
      "text/plain": [
       "<matplotlib.text.Text at 0x291e31d0>"
      ]
     },
     "execution_count": 474,
     "metadata": {},
     "output_type": "execute_result"
    },
    {
     "data": {
      "image/png": "[encoded data removed]",
      "text/plain": [
       "<matplotlib.figure.Figure at 0x2738e048>"
      ]
     },
     "metadata": {},
     "output_type": "display_data"
    }
   ],
   "source": [
    "plt.scatter(df[43],df[98])\n",
    "plt.xlabel('percentage of kids in family housing with two parents')\n",
    "plt.ylabel(' total number of violent crimes per 100K popuation')"
   ]
  },
  {
   "cell_type": "markdown",
   "metadata": {},
   "source": [
    "Shows a negative correlation and is also statistically significant"
   ]
  },
  {
   "cell_type": "code",
   "execution_count": 12,
   "metadata": {
    "collapsed": false
   },
   "outputs": [],
   "source": [
    "c=df.drop(df.index[375])\n",
    "#outlier"
   ]
  },
  {
   "cell_type": "code",
   "execution_count": 476,
   "metadata": {
    "collapsed": false
   },
   "outputs": [
    {
     "data": {
      "text/plain": [
       "<matplotlib.text.Text at 0x28b59ef0>"
      ]
     },
     "execution_count": 476,
     "metadata": {},
     "output_type": "execute_result"
    },
    {
     "data": {
      "image/png": "[encoded data removed]",
      "text/plain": [
       "<matplotlib.figure.Figure at 0x292c0240>"
      ]
     },
     "metadata": {},
     "output_type": "display_data"
    }
   ],
   "source": [
    "plt.scatter(df[3],df[98])\n",
    "plt.xlabel(' percentage of population that is african american')\n",
    "plt.ylabel(' total number of violent crimes per 100K popuation')"
   ]
  },
  {
   "cell_type": "markdown",
   "metadata": {},
   "source": [
    "Shows a positive correlation and is also statistically significant"
   ]
  },
  {
   "cell_type": "code",
   "execution_count": 477,
   "metadata": {
    "collapsed": false
   },
   "outputs": [
    {
     "data": {
      "text/plain": [
       "<matplotlib.text.Text at 0x260641d0>"
      ]
     },
     "execution_count": 477,
     "metadata": {},
     "output_type": "execute_result"
    },
    {
     "data": {
      "image/png": "[encoded data removed]",
      "text/plain": [
       "<matplotlib.figure.Figure at 0x29209eb8>"
      ]
     },
     "metadata": {},
     "output_type": "display_data"
    }
   ],
   "source": [
    "plt.scatter(df[69],df[98])\n",
    "plt.xlabel('number of vacant households')\n",
    "plt.ylabel(' total number of violent crimes per 100K popuation')"
   ]
  },
  {
   "cell_type": "code",
   "execution_count": null,
   "metadata": {
    "collapsed": true
   },
   "outputs": [],
   "source": []
  },
  {
   "cell_type": "code",
   "execution_count": 478,
   "metadata": {
    "collapsed": false
   },
   "outputs": [
    {
     "data": {
      "text/plain": [
       "<matplotlib.text.Text at 0x26105be0>"
      ]
     },
     "execution_count": 478,
     "metadata": {},
     "output_type": "execute_result"
    },
    {
     "data": {
      "image/png": "[encoded data removed]",
      "text/plain": [
       "<matplotlib.figure.Figure at 0x2829b940>"
      ]
     },
     "metadata": {},
     "output_type": "display_data"
    }
   ],
   "source": [
    "plt.scatter(df[88],df[98])\n",
    "plt.xlabel('number of homeless people counted in the street')\n",
    "plt.ylabel(' total number of violent crimes per 100K popuation')"
   ]
  },
  {
   "cell_type": "code",
   "execution_count": null,
   "metadata": {
    "collapsed": false
   },
   "outputs": [],
   "source": []
  },
  {
   "cell_type": "code",
   "execution_count": 484,
   "metadata": {
    "collapsed": false
   },
   "outputs": [
    {
     "data": {
      "text/plain": [
       "<matplotlib.text.Text at 0x29df7a90>"
      ]
     },
     "execution_count": 484,
     "metadata": {},
     "output_type": "execute_result"
    },
    {
     "data": {
      "image/png": "[encoded data removed]",
      "text/plain": [
       "<matplotlib.figure.Figure at 0x2c0da9b0>"
      ]
     },
     "metadata": {},
     "output_type": "display_data"
    }
   ],
   "source": [
    "plt.scatter(df[66],df[98])\n",
    "plt.xlabel('percent of persons in dense housing (more than 1 person per room) ')\n",
    "plt.ylabel(' total number of violent crimes per 100K popuation')"
   ]
  },
  {
   "cell_type": "code",
   "execution_count": 480,
   "metadata": {
    "collapsed": false
   },
   "outputs": [
    {
     "data": {
      "text/plain": [
       "<matplotlib.text.Text at 0x2874ebe0>"
      ]
     },
     "execution_count": 480,
     "metadata": {},
     "output_type": "execute_result"
    },
    {
     "data": {
      "image/png": "[encoded data removed]",
      "text/plain": [
       "<matplotlib.figure.Figure at 0x28a2e1d0>"
      ]
     },
     "metadata": {},
     "output_type": "display_data"
    }
   ],
   "source": [
    "plt.scatter(df[15],df[98])\n",
    "plt.xlabel(' percentage of households with investment / rent income in 1989 ')\n",
    "plt.ylabel(' total number of violent crimes per 100K popuation')"
   ]
  },
  {
   "cell_type": "code",
   "execution_count": 485,
   "metadata": {
    "collapsed": false
   },
   "outputs": [
    {
     "data": {
      "text/plain": [
       "375    0.86\n",
       "Name: 15, dtype: float64"
      ]
     },
     "execution_count": 485,
     "metadata": {},
     "output_type": "execute_result"
    }
   ],
   "source": [
    "ch=df[(df[15]>0.8) & (df[98]>0.8)]\n",
    "ch[15]"
   ]
  },
  {
   "cell_type": "code",
   "execution_count": 14,
   "metadata": {
    "collapsed": false
   },
   "outputs": [],
   "source": [
    "dft=pd.DataFrame(df.T)\n",
    "dfm=pd.merge(lbl,dft,left_index='True',right_index='True')\n",
    "dfm=dfm.drop('corr_x',1)\n",
    "dfm=pd.DataFrame(dfm.T)\n"
   ]
  },
  {
   "cell_type": "code",
   "execution_count": null,
   "metadata": {
    "collapsed": false
   },
   "outputs": [],
   "source": [
    "\n"
   ]
  },
  {
   "cell_type": "code",
   "execution_count": null,
   "metadata": {
    "collapsed": false
   },
   "outputs": [],
   "source": []
  },
  {
   "cell_type": "code",
   "execution_count": 380,
   "metadata": {
    "collapsed": false
   },
   "outputs": [],
   "source": []
  },
  {
   "cell_type": "code",
   "execution_count": null,
   "metadata": {
    "collapsed": false
   },
   "outputs": [],
   "source": []
  },
  {
   "cell_type": "code",
   "execution_count": null,
   "metadata": {
    "collapsed": false
   },
   "outputs": [],
   "source": []
  },
  {
   "cell_type": "code",
   "execution_count": null,
   "metadata": {
    "collapsed": false
   },
   "outputs": [],
   "source": []
  },
  {
   "cell_type": "markdown",
   "metadata": {},
   "source": [
    "Applying Linear Regression"
   ]
  },
  {
   "cell_type": "code",
   "execution_count": 36,
   "metadata": {
    "collapsed": false
   },
   "outputs": [
    {
     "data": {
      "text/plain": [
       "0.65362883122177284"
      ]
     },
     "execution_count": 36,
     "metadata": {},
     "output_type": "execute_result"
    }
   ],
   "source": [
    "dfma=np.array(dfm)\n",
    "dfma1=np.delete(dfma,(0),axis=0)\n",
    "target = np.array([x[-1] for x in dfma1])\n",
    "features = np.array([x[:-1] for x in dfma1])\n",
    "from sklearn import linear_model\n",
    "from sklearn.cross_validation import KFold,cross_val_score,cross_val_predict\n",
    "clf = linear_model.LinearRegression()\n",
    "scores = cross_val_score(clf, features, target, cv=10, scoring='r2')\n",
    "np.mean(scores)\n"
   ]
  },
  {
   "cell_type": "markdown",
   "metadata": {},
   "source": [
    "Applying Recursive Feature selection"
   ]
  },
  {
   "cell_type": "code",
   "execution_count": 37,
   "metadata": {
    "collapsed": false
   },
   "outputs": [],
   "source": [
    "from sklearn.feature_selection import RFE\n",
    "selector = RFE(clf,50, step=1)\n",
    "selector = selector.fit_transform(features, target)"
   ]
  },
  {
   "cell_type": "code",
   "execution_count": 38,
   "metadata": {
    "collapsed": false
   },
   "outputs": [
    {
     "data": {
      "text/plain": [
       "0.66164835907575248"
      ]
     },
     "execution_count": 38,
     "metadata": {},
     "output_type": "execute_result"
    }
   ],
   "source": [
    "scores = cross_val_score(clf, selector, target, cv=10, scoring='r2')\n",
    "np.mean(scores)"
   ]
  },
  {
   "cell_type": "code",
   "execution_count": null,
   "metadata": {
    "collapsed": false
   },
   "outputs": [],
   "source": []
  },
  {
   "cell_type": "markdown",
   "metadata": {},
   "source": [
    "After removing outlier"
   ]
  },
  {
   "cell_type": "code",
   "execution_count": 39,
   "metadata": {
    "collapsed": false
   },
   "outputs": [
    {
     "data": {
      "text/plain": [
       "0.66574472602754331"
      ]
     },
     "execution_count": 39,
     "metadata": {},
     "output_type": "execute_result"
    }
   ],
   "source": [
    "ca=np.array(c)\n",
    "target = np.array([x[-1] for x in ca])\n",
    "features = np.array([x[:-1] for x in ca])\n",
    "selector = RFE(clf,65, step=1)\n",
    "selector = selector.fit_transform(features, target)\n",
    "scores = cross_val_score(clf, selector, target, cv=10, scoring='r2')\n",
    "np.mean(scores)"
   ]
  },
  {
   "cell_type": "markdown",
   "metadata": {},
   "source": [
    "Applying Ridge Regression"
   ]
  },
  {
   "cell_type": "code",
   "execution_count": 40,
   "metadata": {
    "collapsed": false
   },
   "outputs": [
    {
     "data": {
      "text/plain": [
       "0.66959908571796567"
      ]
     },
     "execution_count": 40,
     "metadata": {},
     "output_type": "execute_result"
    }
   ],
   "source": [
    "clf = linear_model.Ridge(alpha = .5)\n",
    "selector = RFE(clf,65, step=1)\n",
    "selector = selector.fit_transform(features, target)\n",
    "scores = cross_val_score(clf, selector, target, cv=10, scoring='r2')\n",
    "np.mean(scores)"
   ]
  },
  {
   "cell_type": "markdown",
   "metadata": {},
   "source": [
    "Checking with RandomRegressor"
   ]
  },
  {
   "cell_type": "code",
   "execution_count": 41,
   "metadata": {
    "collapsed": false
   },
   "outputs": [
    {
     "data": {
      "text/plain": [
       "0.62587083733061355"
      ]
     },
     "execution_count": 41,
     "metadata": {},
     "output_type": "execute_result"
    }
   ],
   "source": [
    "from sklearn.ensemble import RandomForestRegressor\n",
    "crf=RandomForestRegressor()\n",
    "scores = cross_val_score(crf, features, target, cv=10, scoring='r2')\n",
    "np.mean(scores)\n"
   ]
  },
  {
   "cell_type": "code",
   "execution_count": null,
   "metadata": {
    "collapsed": true
   },
   "outputs": [],
   "source": []
  },
  {
   "cell_type": "code",
   "execution_count": 42,
   "metadata": {
    "collapsed": false
   },
   "outputs": [
    {
     "name": "stdout",
     "output_type": "stream",
     "text": [
      "prediction errors Using Ridge regression and RFE\n"
     ]
    },
    {
     "name": "stderr",
     "output_type": "stream",
     "text": [
      "C:\\Users\\Praful\\Anaconda\\lib\\site-packages\\matplotlib\\figure.py:387: UserWarning: matplotlib is currently using a non-GUI backend, so cannot show the figure\n",
      "  \"matplotlib is currently using a non-GUI backend, \"\n"
     ]
    },
    {
     "data": {
      "image/png": "[encoded data removed]",
      "text/plain": [
       "<matplotlib.figure.Figure at 0x1b79c2e8>"
      ]
     },
     "metadata": {},
     "output_type": "display_data"
    }
   ],
   "source": [
    "predicted = cross_val_predict(clf, selector, target, cv=10)\n",
    "\n",
    "fig,ax = plt.subplots()\n",
    "ax.scatter(target, predicted)\n",
    "ax.plot([target.min(), target.max()], [target.min(), target.max()], 'k--', lw=4)\n",
    "ax.set_xlabel('Measured')\n",
    "ax.set_ylabel('Predicted')\n",
    "fig.show()\n",
    "print 'prediction errors Using Ridge regression and RFE'"
   ]
  },
  {
   "cell_type": "markdown",
   "metadata": {},
   "source": [
    "Boxcox Transformation"
   ]
  },
  {
   "cell_type": "code",
   "execution_count": 44,
   "metadata": {
    "collapsed": false
   },
   "outputs": [
    {
     "data": {
      "text/plain": [
       "array([ 0.18232156,  0.51282363,  0.35767444, ...,  0.20701417,\n",
       "        0.17395331,  0.39204209])"
      ]
     },
     "execution_count": 44,
     "metadata": {},
     "output_type": "execute_result"
    }
   ],
   "source": [
    "from scipy import stats\n",
    "\n",
    "y=stats.boxcox(target+1,0)\n",
    "y"
   ]
  },
  {
   "cell_type": "code",
   "execution_count": 45,
   "metadata": {
    "collapsed": false
   },
   "outputs": [
    {
     "data": {
      "text/plain": [
       "0.67873601930539051"
      ]
     },
     "execution_count": 45,
     "metadata": {},
     "output_type": "execute_result"
    }
   ],
   "source": [
    "clf = linear_model.LinearRegression()\n",
    "scores = cross_val_score(clf, features, y, cv=10, scoring='r2')\n",
    "np.mean(scores)\n"
   ]
  },
  {
   "cell_type": "code",
   "execution_count": 54,
   "metadata": {
    "collapsed": false
   },
   "outputs": [
    {
     "data": {
      "text/plain": [
       "0.6889399310690415"
      ]
     },
     "execution_count": 54,
     "metadata": {},
     "output_type": "execute_result"
    }
   ],
   "source": [
    "selector = RFE(clf,60, step=1)\n",
    "selector = selector.fit_transform(features, y)\n",
    "scores = cross_val_score(clf, selector, y, cv=10, scoring='r2')\n",
    "np.mean(scores)"
   ]
  },
  {
   "cell_type": "code",
   "execution_count": 64,
   "metadata": {
    "collapsed": false
   },
   "outputs": [
    {
     "data": {
      "text/plain": [
       "0.68996551682605267"
      ]
     },
     "execution_count": 64,
     "metadata": {},
     "output_type": "execute_result"
    }
   ],
   "source": [
    "clf = linear_model.Ridge(alpha = .5)\n",
    "selector = RFE(clf,65, step=1)\n",
    "selector = selector.fit_transform(features, y)\n",
    "scores = cross_val_score(clf, selector, y, cv=10, scoring='r2')\n",
    "np.mean(scores)"
   ]
  },
  {
   "cell_type": "code",
   "execution_count": 65,
   "metadata": {
    "collapsed": false
   },
   "outputs": [
    {
     "name": "stdout",
     "output_type": "stream",
     "text": [
      "prediction errors Using Ridge regression and RFE\n"
     ]
    },
    {
     "data": {
      "image/png": "[encoded data removed]",
      "text/plain": [
       "<matplotlib.figure.Figure at 0x1c049940>"
      ]
     },
     "metadata": {},
     "output_type": "display_data"
    }
   ],
   "source": [
    "predicted = cross_val_predict(clf, selector, y, cv=10)\n",
    "\n",
    "fig,ax = plt.subplots()\n",
    "ax.scatter(y, predicted)\n",
    "ax.plot([y.min(), y.max()], [y.min(), y.max()], 'k--', lw=4)\n",
    "ax.set_xlabel('Measured')\n",
    "ax.set_ylabel('Predicted')\n",
    "fig.show()\n",
    "print 'prediction errors Using Ridge regression and RFE'"
   ]
  },
  {
   "cell_type": "code",
   "execution_count": null,
   "metadata": {
    "collapsed": true
   },
   "outputs": [],
   "source": []
  }
 ],
 "metadata": {
  "kernelspec": {
   "display_name": "Python 2",
   "language": "python",
   "name": "python2"
  },
  "language_info": {
   "codemirror_mode": {
    "name": "ipython",
    "version": 2
   },
   "file_extension": ".py",
   "mimetype": "text/x-python",
   "name": "python",
   "nbconvert_exporter": "python",
   "pygments_lexer": "ipython2",
   "version": "2.7.10"
  }
 },
 "nbformat": 4,
 "nbformat_minor": 0
}
