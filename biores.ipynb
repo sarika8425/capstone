{
 "cells": [
  {
   "cell_type": "markdown",
   "metadata": {},
   "source": [
    "Data from https://www.kaggle.com/c/bioresponse"
   ]
  },
  {
   "cell_type": "code",
   "execution_count": 1,
   "metadata": {
    "collapsed": true
   },
   "outputs": [],
   "source": [
    "import pandas as pd\n",
    "import pylab as pl\n",
    "import numpy as np"
   ]
  },
  {
   "cell_type": "code",
   "execution_count": 2,
   "metadata": {
    "collapsed": true
   },
   "outputs": [],
   "source": [
    "df = pd.DataFrame.from_csv('trainbio.csv', index_col=None)"
   ]
  },
  {
   "cell_type": "code",
   "execution_count": 3,
   "metadata": {
    "collapsed": false
   },
   "outputs": [],
   "source": [
    "dfc=df.corr()\n"
   ]
  },
  {
   "cell_type": "code",
   "execution_count": null,
   "metadata": {
    "collapsed": true
   },
   "outputs": [],
   "source": []
  },
  {
   "cell_type": "code",
   "execution_count": 12,
   "metadata": {
    "collapsed": false
   },
   "outputs": [],
   "source": [
    "dfc1=dfc[abs(dfc.Activity)>=0.05]\n",
    "\n",
    "dfc1=pd.DataFrame(dfc1.Activity)\n",
    "dfc1['corr']=dfc1['Activity']\n",
    "dfc1=dfc1.drop('Activity',1)\n"
   ]
  },
  {
   "cell_type": "code",
   "execution_count": 59,
   "metadata": {
    "collapsed": false
   },
   "outputs": [],
   "source": [
    "dft=pd.DataFrame(df.T)\n",
    "dfm=pd.merge(dfc1,dft,left_index='True',right_index='True')\n",
    "dfm=dfm.drop('corr',1)\n",
    "dfm=pd.DataFrame(dfm.T)\n"
   ]
  },
  {
   "cell_type": "code",
   "execution_count": null,
   "metadata": {
    "collapsed": false
   },
   "outputs": [],
   "source": []
  },
  {
   "cell_type": "code",
   "execution_count": 6,
   "metadata": {
    "collapsed": false
   },
   "outputs": [
    {
     "data": {
      "text/plain": [
       "['Activity',\n",
       " 'D1',\n",
       " 'D2',\n",
       " 'D3',\n",
       " 'D5',\n",
       " 'D6',\n",
       " 'D7',\n",
       " 'D8',\n",
       " 'D9',\n",
       " 'D10',\n",
       " 'D11',\n",
       " 'D13',\n",
       " 'D14',\n",
       " 'D15',\n",
       " 'D16',\n",
       " 'D17',\n",
       " 'D18',\n",
       " 'D19',\n",
       " 'D20',\n",
       " 'D21',\n",
       " 'D23',\n",
       " 'D26',\n",
       " 'D27',\n",
       " 'D30',\n",
       " 'D31',\n",
       " 'D32',\n",
       " 'D35',\n",
       " 'D36',\n",
       " 'D41',\n",
       " 'D43',\n",
       " 'D48',\n",
       " 'D49',\n",
       " 'D50',\n",
       " 'D51',\n",
       " 'D52',\n",
       " 'D55',\n",
       " 'D56',\n",
       " 'D59',\n",
       " 'D60',\n",
       " 'D61',\n",
       " 'D62',\n",
       " 'D63',\n",
       " 'D64',\n",
       " 'D66',\n",
       " 'D67',\n",
       " 'D68',\n",
       " 'D69',\n",
       " 'D70',\n",
       " 'D73',\n",
       " 'D74',\n",
       " 'D75',\n",
       " 'D76',\n",
       " 'D77',\n",
       " 'D78',\n",
       " 'D79',\n",
       " 'D81',\n",
       " 'D83',\n",
       " 'D84',\n",
       " 'D85',\n",
       " 'D87',\n",
       " 'D88',\n",
       " 'D89',\n",
       " 'D96',\n",
       " 'D97',\n",
       " 'D98',\n",
       " 'D100',\n",
       " 'D101',\n",
       " 'D103',\n",
       " 'D106',\n",
       " 'D108',\n",
       " 'D116',\n",
       " 'D117',\n",
       " 'D119',\n",
       " 'D124',\n",
       " 'D125',\n",
       " 'D129',\n",
       " 'D131',\n",
       " 'D132',\n",
       " 'D133',\n",
       " 'D134',\n",
       " 'D135',\n",
       " 'D136',\n",
       " 'D138',\n",
       " 'D140',\n",
       " 'D141',\n",
       " 'D144',\n",
       " 'D146',\n",
       " 'D147',\n",
       " 'D149',\n",
       " 'D152',\n",
       " 'D153',\n",
       " 'D154',\n",
       " 'D155',\n",
       " 'D156',\n",
       " 'D158',\n",
       " 'D159',\n",
       " 'D160',\n",
       " 'D161',\n",
       " 'D162',\n",
       " 'D163',\n",
       " 'D164',\n",
       " 'D173',\n",
       " 'D174',\n",
       " 'D175',\n",
       " 'D177',\n",
       " 'D181',\n",
       " 'D182',\n",
       " 'D183',\n",
       " 'D186',\n",
       " 'D187',\n",
       " 'D194',\n",
       " 'D196',\n",
       " 'D197',\n",
       " 'D198',\n",
       " 'D200',\n",
       " 'D201',\n",
       " 'D202',\n",
       " 'D204',\n",
       " 'D207',\n",
       " 'D209',\n",
       " 'D210',\n",
       " 'D211',\n",
       " 'D214',\n",
       " 'D217',\n",
       " 'D222',\n",
       " 'D225',\n",
       " 'D228',\n",
       " 'D229',\n",
       " 'D231',\n",
       " 'D232',\n",
       " 'D237',\n",
       " 'D258',\n",
       " 'D259',\n",
       " 'D260',\n",
       " 'D262',\n",
       " 'D264',\n",
       " 'D265',\n",
       " 'D267',\n",
       " 'D269',\n",
       " 'D270',\n",
       " 'D271',\n",
       " 'D276',\n",
       " 'D278',\n",
       " 'D286',\n",
       " 'D287',\n",
       " 'D288',\n",
       " 'D292',\n",
       " 'D293',\n",
       " 'D294',\n",
       " 'D304',\n",
       " 'D306',\n",
       " 'D309',\n",
       " 'D310',\n",
       " 'D311',\n",
       " 'D312',\n",
       " 'D313',\n",
       " 'D314',\n",
       " 'D315',\n",
       " 'D318',\n",
       " 'D320',\n",
       " 'D334',\n",
       " 'D360',\n",
       " 'D361',\n",
       " 'D365',\n",
       " 'D373',\n",
       " 'D376',\n",
       " 'D377',\n",
       " 'D378',\n",
       " 'D380',\n",
       " 'D386',\n",
       " 'D390',\n",
       " 'D391',\n",
       " 'D416',\n",
       " 'D426',\n",
       " 'D440',\n",
       " 'D442',\n",
       " 'D449',\n",
       " 'D451',\n",
       " 'D453',\n",
       " 'D454',\n",
       " 'D455',\n",
       " 'D456',\n",
       " 'D458',\n",
       " 'D459',\n",
       " 'D460',\n",
       " 'D469',\n",
       " 'D473',\n",
       " 'D474',\n",
       " 'D476',\n",
       " 'D480',\n",
       " 'D481',\n",
       " 'D495',\n",
       " 'D504',\n",
       " 'D506',\n",
       " 'D512',\n",
       " 'D524',\n",
       " 'D525',\n",
       " 'D526',\n",
       " 'D527',\n",
       " 'D530',\n",
       " 'D531',\n",
       " 'D545',\n",
       " 'D555',\n",
       " 'D556',\n",
       " 'D558',\n",
       " 'D569',\n",
       " 'D582',\n",
       " 'D583',\n",
       " 'D586',\n",
       " 'D588',\n",
       " 'D592',\n",
       " 'D595',\n",
       " 'D596',\n",
       " 'D597',\n",
       " 'D598',\n",
       " 'D607',\n",
       " 'D608',\n",
       " 'D609',\n",
       " 'D610',\n",
       " 'D611',\n",
       " 'D612',\n",
       " 'D613',\n",
       " 'D622',\n",
       " 'D623',\n",
       " 'D624',\n",
       " 'D625',\n",
       " 'D626',\n",
       " 'D627',\n",
       " 'D649',\n",
       " 'D659',\n",
       " 'D660',\n",
       " 'D661',\n",
       " 'D672',\n",
       " 'D674',\n",
       " 'D675',\n",
       " 'D676',\n",
       " 'D685',\n",
       " 'D687',\n",
       " 'D688',\n",
       " 'D690',\n",
       " 'D691',\n",
       " 'D700',\n",
       " 'D701',\n",
       " 'D703',\n",
       " 'D711',\n",
       " 'D739',\n",
       " 'D740',\n",
       " 'D741',\n",
       " 'D742',\n",
       " 'D747',\n",
       " 'D750',\n",
       " 'D751',\n",
       " 'D752',\n",
       " 'D761',\n",
       " 'D762',\n",
       " 'D794',\n",
       " 'D802',\n",
       " 'D803',\n",
       " 'D806',\n",
       " 'D807',\n",
       " 'D811',\n",
       " 'D842',\n",
       " 'D843',\n",
       " 'D844',\n",
       " 'D855',\n",
       " 'D881',\n",
       " 'D889',\n",
       " 'D890',\n",
       " 'D911',\n",
       " 'D912',\n",
       " 'D913',\n",
       " 'D928',\n",
       " 'D929',\n",
       " 'D932',\n",
       " 'D936',\n",
       " 'D943',\n",
       " 'D947',\n",
       " 'D948',\n",
       " 'D951',\n",
       " 'D952',\n",
       " 'D953',\n",
       " 'D954',\n",
       " 'D959',\n",
       " 'D960',\n",
       " 'D961',\n",
       " 'D964',\n",
       " 'D965',\n",
       " 'D966',\n",
       " 'D967',\n",
       " 'D969',\n",
       " 'D970',\n",
       " 'D971',\n",
       " 'D972',\n",
       " 'D973',\n",
       " 'D978',\n",
       " 'D979',\n",
       " 'D981',\n",
       " 'D986',\n",
       " 'D987',\n",
       " 'D988',\n",
       " 'D989',\n",
       " 'D991',\n",
       " 'D992',\n",
       " 'D993',\n",
       " 'D995',\n",
       " 'D996',\n",
       " 'D997',\n",
       " 'D998',\n",
       " 'D999',\n",
       " 'D1001',\n",
       " 'D1002',\n",
       " 'D1004',\n",
       " 'D1005',\n",
       " 'D1010',\n",
       " 'D1012',\n",
       " 'D1013',\n",
       " 'D1016',\n",
       " 'D1017',\n",
       " 'D1018',\n",
       " 'D1022',\n",
       " 'D1023',\n",
       " 'D1027',\n",
       " 'D1028',\n",
       " 'D1031',\n",
       " 'D1032',\n",
       " 'D1034',\n",
       " 'D1036',\n",
       " 'D1037',\n",
       " 'D1041',\n",
       " 'D1043',\n",
       " 'D1045',\n",
       " 'D1054',\n",
       " 'D1059',\n",
       " 'D1060',\n",
       " 'D1061',\n",
       " 'D1065',\n",
       " 'D1066',\n",
       " 'D1067',\n",
       " 'D1069',\n",
       " 'D1070',\n",
       " 'D1071',\n",
       " 'D1074',\n",
       " 'D1076',\n",
       " 'D1077',\n",
       " 'D1078',\n",
       " 'D1083',\n",
       " 'D1087',\n",
       " 'D1089',\n",
       " 'D1090',\n",
       " 'D1093',\n",
       " 'D1094',\n",
       " 'D1096',\n",
       " 'D1106',\n",
       " 'D1109',\n",
       " 'D1110',\n",
       " 'D1112',\n",
       " 'D1113',\n",
       " 'D1116',\n",
       " 'D1120',\n",
       " 'D1125',\n",
       " 'D1127',\n",
       " 'D1128',\n",
       " 'D1133',\n",
       " 'D1135',\n",
       " 'D1137',\n",
       " 'D1143',\n",
       " 'D1144',\n",
       " 'D1149',\n",
       " 'D1150',\n",
       " 'D1152',\n",
       " 'D1155',\n",
       " 'D1157',\n",
       " 'D1160',\n",
       " 'D1163',\n",
       " 'D1164',\n",
       " 'D1167',\n",
       " 'D1168',\n",
       " 'D1169',\n",
       " 'D1170',\n",
       " 'D1172',\n",
       " 'D1174',\n",
       " 'D1176',\n",
       " 'D1178',\n",
       " 'D1179',\n",
       " 'D1180',\n",
       " 'D1181',\n",
       " 'D1187',\n",
       " 'D1190',\n",
       " 'D1191',\n",
       " 'D1193',\n",
       " 'D1194',\n",
       " 'D1195',\n",
       " 'D1196',\n",
       " 'D1201',\n",
       " 'D1202',\n",
       " 'D1204',\n",
       " 'D1206',\n",
       " 'D1208',\n",
       " 'D1211',\n",
       " 'D1213',\n",
       " 'D1219',\n",
       " 'D1226',\n",
       " 'D1230',\n",
       " 'D1232',\n",
       " 'D1234',\n",
       " 'D1242',\n",
       " 'D1243',\n",
       " 'D1247',\n",
       " 'D1251',\n",
       " 'D1252',\n",
       " 'D1259',\n",
       " 'D1263',\n",
       " 'D1268',\n",
       " 'D1272',\n",
       " 'D1273',\n",
       " 'D1277',\n",
       " 'D1280',\n",
       " 'D1281',\n",
       " 'D1285',\n",
       " 'D1286',\n",
       " 'D1289',\n",
       " 'D1294',\n",
       " 'D1299',\n",
       " 'D1307',\n",
       " 'D1309',\n",
       " 'D1311',\n",
       " 'D1317',\n",
       " 'D1324',\n",
       " 'D1333',\n",
       " 'D1335',\n",
       " 'D1337',\n",
       " 'D1338',\n",
       " 'D1341',\n",
       " 'D1344',\n",
       " 'D1347',\n",
       " 'D1349',\n",
       " 'D1354',\n",
       " 'D1361',\n",
       " 'D1363',\n",
       " 'D1364',\n",
       " 'D1366',\n",
       " 'D1371',\n",
       " 'D1376',\n",
       " 'D1379',\n",
       " 'D1382',\n",
       " 'D1384',\n",
       " 'D1390',\n",
       " 'D1391',\n",
       " 'D1397',\n",
       " 'D1400',\n",
       " 'D1403',\n",
       " 'D1406',\n",
       " 'D1407',\n",
       " 'D1408',\n",
       " 'D1409',\n",
       " 'D1410',\n",
       " 'D1412',\n",
       " 'D1414',\n",
       " 'D1415',\n",
       " 'D1418',\n",
       " 'D1419',\n",
       " 'D1421',\n",
       " 'D1424',\n",
       " 'D1426',\n",
       " 'D1427',\n",
       " 'D1431',\n",
       " 'D1434',\n",
       " 'D1441',\n",
       " 'D1442',\n",
       " 'D1445',\n",
       " 'D1446',\n",
       " 'D1447',\n",
       " 'D1448',\n",
       " 'D1449',\n",
       " 'D1454',\n",
       " 'D1456',\n",
       " 'D1463',\n",
       " 'D1472',\n",
       " 'D1481',\n",
       " 'D1486',\n",
       " 'D1496',\n",
       " 'D1497',\n",
       " 'D1505',\n",
       " 'D1519',\n",
       " 'D1532',\n",
       " 'D1539',\n",
       " 'D1540',\n",
       " 'D1541',\n",
       " 'D1543',\n",
       " 'D1545',\n",
       " 'D1552',\n",
       " 'D1569',\n",
       " 'D1571',\n",
       " 'D1580',\n",
       " 'D1582',\n",
       " 'D1585',\n",
       " 'D1589',\n",
       " 'D1596',\n",
       " 'D1598',\n",
       " 'D1613',\n",
       " 'D1637',\n",
       " 'D1644',\n",
       " 'D1650',\n",
       " 'D1653',\n",
       " 'D1677',\n",
       " 'D1679',\n",
       " 'D1681',\n",
       " 'D1682',\n",
       " 'D1684',\n",
       " 'D1699',\n",
       " 'D1709',\n",
       " 'D1718',\n",
       " 'D1728',\n",
       " 'D1729',\n",
       " 'D1731',\n",
       " 'D1739',\n",
       " 'D1746',\n",
       " 'D1763',\n",
       " 'D1768']"
      ]
     },
     "execution_count": 6,
     "metadata": {},
     "output_type": "execute_result"
    }
   ],
   "source": [
    "len(dfm)\n",
    "list(dfm)"
   ]
  },
  {
   "cell_type": "code",
   "execution_count": 9,
   "metadata": {
    "collapsed": false
   },
   "outputs": [
    {
     "name": "stdout",
     "output_type": "stream",
     "text": [
      "Feature Ranking: \n",
      "1 feature no.26 (0.0383267549738)\n",
      "2 feature no.13 (0.0088024981004)\n",
      "3 feature no.87 (0.00791759427959)\n",
      "4 feature no.7 (0.00776282835565)\n",
      "5 feature no.17 (0.00724301904745)\n",
      "6 feature no.106 (0.00714834426198)\n",
      "7 feature no.6 (0.00704299133138)\n",
      "8 feature no.9 (0.00694760181322)\n",
      "9 feature no.15 (0.00676345721834)\n",
      "10 feature no.83 (0.00676091139344)\n"
     ]
    }
   ],
   "source": [
    "from sklearn.ensemble import RandomForestClassifier\n",
    "dfa=np.array(df)\n",
    "cfr = RandomForestClassifier(n_estimators=100)\n",
    "target = np.array([x[0] for x in dfa])\n",
    "features = np.array([x[1:] for x in dfa])\n",
    "cfr.fit(features, target)\n",
    "importances = cfr.feature_importances_\n",
    "import numpy as np\n",
    "indices = np.argsort(importances)[::-1]\n",
    "print 'Feature Ranking: '\n",
    "for i in range(10):\n",
    "    print \"{} feature no.{} ({})\".format(i+1,indices[i],importances[indices[i]])"
   ]
  },
  {
   "cell_type": "code",
   "execution_count": null,
   "metadata": {
    "collapsed": false
   },
   "outputs": [],
   "source": []
  },
  {
   "cell_type": "code",
   "execution_count": 13,
   "metadata": {
    "collapsed": false
   },
   "outputs": [],
   "source": [
    "dfm=np.array(dfm)"
   ]
  },
  {
   "cell_type": "markdown",
   "metadata": {},
   "source": [
    "Random Forest"
   ]
  },
  {
   "cell_type": "code",
   "execution_count": 15,
   "metadata": {
    "collapsed": false
   },
   "outputs": [],
   "source": [
    "from sklearn.ensemble import RandomForestClassifier\n",
    "from sklearn.cross_validation import train_test_split\n",
    "from sklearn import cross_validation\n",
    "#feature_train, feature_test, target_train, target_test = train_test_split(features, target, test_size=0.5, random_state=42)\n",
    "from sklearn.metrics import accuracy_score"
   ]
  },
  {
   "cell_type": "markdown",
   "metadata": {},
   "source": [
    "keeping all features"
   ]
  },
  {
   "cell_type": "code",
   "execution_count": 16,
   "metadata": {
    "collapsed": false
   },
   "outputs": [
    {
     "name": "stdout",
     "output_type": "stream",
     "text": [
      "Results: 0.802444680851\n"
     ]
    }
   ],
   "source": [
    "dfa=np.array(df)\n",
    "def main():\n",
    "    target = np.array([x[0] for x in dfa])\n",
    "    features = np.array([x[1:] for x in dfa])\n",
    "    cfr = RandomForestClassifier(n_estimators=100)\n",
    "    cv = cross_validation.KFold(len(features), n_folds=10,shuffle=True, random_state=None)\n",
    "    results = []\n",
    "    for traincv, testcv in cv:\n",
    "        probas = cfr.fit(features[traincv], target[traincv]).predict(features[testcv])\n",
    "        results.append( accuracy_score(target[testcv], [x for x in probas]) )\n",
    "\n",
    "    #print out the mean of the cross-validated results\n",
    "    print \"Results: \" + str( np.array(results).mean() )\n",
    "if __name__==\"__main__\":\n",
    "    main()        "
   ]
  },
  {
   "cell_type": "markdown",
   "metadata": {},
   "source": [
    "keeping features with at least 0.05 correlation"
   ]
  },
  {
   "cell_type": "code",
   "execution_count": 17,
   "metadata": {
    "collapsed": false
   },
   "outputs": [
    {
     "name": "stdout",
     "output_type": "stream",
     "text": [
      "Results: 0.809126241135\n"
     ]
    }
   ],
   "source": [
    "def main():\n",
    "    target = np.array([x[0] for x in dfm])\n",
    "    features = np.array([x[1:] for x in dfm])\n",
    "    cfr = RandomForestClassifier(n_estimators=100)\n",
    "    cv = cross_validation.KFold(len(features), n_folds=10,shuffle=True, random_state=None)\n",
    "    results = []\n",
    "    for traincv, testcv in cv:\n",
    "        probas = cfr.fit(features[traincv], target[traincv]).predict(features[testcv])\n",
    "        results.append( accuracy_score(target[testcv], [x for x in probas]) )\n",
    "\n",
    "    #print out the mean of the cross-validated results\n",
    "    print \"Results: \" + str( np.array(results).mean() )\n",
    "if __name__==\"__main__\":\n",
    "    main()        "
   ]
  },
  {
   "cell_type": "code",
   "execution_count": null,
   "metadata": {
    "collapsed": true
   },
   "outputs": [],
   "source": []
  },
  {
   "cell_type": "code",
   "execution_count": null,
   "metadata": {
    "collapsed": false,
    "scrolled": true
   },
   "outputs": [],
   "source": []
  },
  {
   "cell_type": "code",
   "execution_count": null,
   "metadata": {
    "collapsed": false
   },
   "outputs": [],
   "source": []
  },
  {
   "cell_type": "code",
   "execution_count": null,
   "metadata": {
    "collapsed": false
   },
   "outputs": [],
   "source": []
  },
  {
   "cell_type": "code",
   "execution_count": null,
   "metadata": {
    "collapsed": false
   },
   "outputs": [],
   "source": []
  },
  {
   "cell_type": "code",
   "execution_count": null,
   "metadata": {
    "collapsed": false
   },
   "outputs": [],
   "source": []
  },
  {
   "cell_type": "code",
   "execution_count": null,
   "metadata": {
    "collapsed": true
   },
   "outputs": [],
   "source": []
  },
  {
   "cell_type": "markdown",
   "metadata": {},
   "source": [
    "Logistic Regression"
   ]
  },
  {
   "cell_type": "code",
   "execution_count": 18,
   "metadata": {
    "collapsed": true
   },
   "outputs": [],
   "source": [
    "from sklearn.linear_model import LogisticRegression"
   ]
  },
  {
   "cell_type": "markdown",
   "metadata": {},
   "source": [
    "with all features"
   ]
  },
  {
   "cell_type": "code",
   "execution_count": 19,
   "metadata": {
    "collapsed": false
   },
   "outputs": [
    {
     "name": "stdout",
     "output_type": "stream",
     "text": [
      "Results: 0.755792907801\n"
     ]
    }
   ],
   "source": [
    "def main():\n",
    "    target = np.array([x[0] for x in dfa])\n",
    "    features = np.array([x[1:] for x in dfa])\n",
    "    clf=LogisticRegression()\n",
    "    cv = cross_validation.KFold(len(features), n_folds=10,shuffle=True, random_state=None)\n",
    "    results = []\n",
    "    for traincv, testcv in cv:\n",
    "        probas = clf.fit(features[traincv], target[traincv]).predict(features[testcv])\n",
    "        results.append( accuracy_score(target[testcv], [x for x in probas]) )\n",
    "\n",
    "    #print out the mean of the cross-validated results\n",
    "    print \"Results: \" + str( np.array(results).mean() )\n",
    "if __name__==\"__main__\":\n",
    "    main()        \n"
   ]
  },
  {
   "cell_type": "markdown",
   "metadata": {},
   "source": [
    "with features having 0.05 correlation"
   ]
  },
  {
   "cell_type": "code",
   "execution_count": 20,
   "metadata": {
    "collapsed": false
   },
   "outputs": [
    {
     "name": "stdout",
     "output_type": "stream",
     "text": [
      "Results: 0.763795744681\n"
     ]
    }
   ],
   "source": [
    "def main():\n",
    "    target = np.array([x[0] for x in dfm])\n",
    "    features = np.array([x[1:] for x in dfm])\n",
    "    clf=LogisticRegression()\n",
    "    cv = cross_validation.KFold(len(features), n_folds=10,shuffle=True, random_state=None)\n",
    "    results = []\n",
    "    for traincv, testcv in cv:\n",
    "        probas = clf.fit(features[traincv], target[traincv]).predict(features[testcv])\n",
    "        results.append( accuracy_score(target[testcv], [x for x in probas]) )\n",
    "\n",
    "    #print out the mean of the cross-validated results\n",
    "    print \"Results: \" + str( np.array(results).mean() )\n",
    "if __name__==\"__main__\":\n",
    "    main()        \n"
   ]
  },
  {
   "cell_type": "markdown",
   "metadata": {},
   "source": [
    "Regularized Logistic"
   ]
  },
  {
   "cell_type": "code",
   "execution_count": 55,
   "metadata": {
    "collapsed": true
   },
   "outputs": [],
   "source": []
  },
  {
   "cell_type": "code",
   "execution_count": 21,
   "metadata": {
    "collapsed": false
   },
   "outputs": [
    {
     "name": "stdout",
     "output_type": "stream",
     "text": [
      "Results: 0.762993617021\n"
     ]
    }
   ],
   "source": [
    "def main():\n",
    "    target = np.array([x[0] for x in dfa])\n",
    "    features = np.array([x[1:] for x in dfa])\n",
    "    clf=LogisticRegression(penalty='l1')\n",
    "    cv = cross_validation.KFold(len(features), n_folds=10,shuffle=True, random_state=None)\n",
    "    results = []\n",
    "    for traincv, testcv in cv:\n",
    "        probas = clf.fit(features[traincv], target[traincv]).predict(features[testcv])\n",
    "        results.append( accuracy_score(target[testcv], [x for x in probas]) )\n",
    "\n",
    "    #print out the mean of the cross-validated results\n",
    "    print \"Results: \" + str( np.array(results).mean() )\n",
    "if __name__==\"__main__\":\n",
    "    main()    "
   ]
  },
  {
   "cell_type": "code",
   "execution_count": 35,
   "metadata": {
    "collapsed": false
   },
   "outputs": [
    {
     "name": "stdout",
     "output_type": "stream",
     "text": [
      "Results: 0.769664539007\n"
     ]
    }
   ],
   "source": [
    "def main():\n",
    "    target = np.array([x[0] for x in dfm])\n",
    "    features = np.array([x[1:] for x in dfm])\n",
    "    clf=LogisticRegression(penalty='l1')\n",
    "    cv = cross_validation.KFold(len(features), n_folds=10,shuffle=True, random_state=None)\n",
    "    results = []\n",
    "    for traincv, testcv in cv:\n",
    "        probas = clf.fit(features[traincv], target[traincv]).predict(features[testcv])\n",
    "        results.append( accuracy_score(target[testcv], [x for x in probas]) )\n",
    "\n",
    "    #print out the mean of the cross-validated results\n",
    "    print \"Results: \" + str( np.array(results).mean() )\n",
    "if __name__==\"__main__\":\n",
    "    main() "
   ]
  },
  {
   "cell_type": "markdown",
   "metadata": {
    "collapsed": false
   },
   "source": [
    "Predicting with Randomforest"
   ]
  },
  {
   "cell_type": "code",
   "execution_count": 43,
   "metadata": {
    "collapsed": false
   },
   "outputs": [],
   "source": [
    "test = pd.DataFrame.from_csv('testbio.csv', index_col=None)\n",
    "testt=pd.DataFrame(test.T)\n",
    "testm=pd.merge(dfc1,testt,left_index='True',right_index='True')\n",
    "testm=testm.drop('corr',1)\n",
    "testm=pd.DataFrame(testm.T)\n"
   ]
  },
  {
   "cell_type": "code",
   "execution_count": 52,
   "metadata": {
    "collapsed": false
   },
   "outputs": [],
   "source": [
    "testa=np.array(testm)\n",
    "test = np.array([x[0:] for x in testa])\n",
    "target = np.array([x[0] for x in dfm])\n",
    "features = np.array([x[1:] for x in dfm])\n",
    "cfr = RandomForestClassifier(n_estimators=100)\n",
    "cfr.fit(features, target)\n"
   ]
  },
  {
   "cell_type": "code",
   "execution_count": 56,
   "metadata": {
    "collapsed": false
   },
   "outputs": [],
   "source": [
    "predicted_probs = [[index + 1, x[1]] for index, x in enumerate(cfr.predict_proba(test))]\n",
    "from numpy import genfromtxt, savetxt\n",
    "savetxt('submission.csv', predicted_probs, delimiter=',', fmt='%d,%f',header='MoleculeId,PredictedProbability', comments = '')\n",
    "\n",
    "                            "
   ]
  },
  {
   "cell_type": "code",
   "execution_count": null,
   "metadata": {
    "collapsed": false
   },
   "outputs": [],
   "source": []
  },
  {
   "cell_type": "code",
   "execution_count": null,
   "metadata": {
    "collapsed": false
   },
   "outputs": [],
   "source": []
  },
  {
   "cell_type": "code",
   "execution_count": null,
   "metadata": {
    "collapsed": true
   },
   "outputs": [],
   "source": []
  }
 ],
 "metadata": {
  "kernelspec": {
   "display_name": "Python 2",
   "language": "python",
   "name": "python2"
  },
  "language_info": {
   "codemirror_mode": {
    "name": "ipython",
    "version": 2
   },
   "file_extension": ".py",
   "mimetype": "text/x-python",
   "name": "python",
   "nbconvert_exporter": "python",
   "pygments_lexer": "ipython2",
   "version": "2.7.10"
  }
 },
 "nbformat": 4,
 "nbformat_minor": 0
}
