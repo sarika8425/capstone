{
 "cells": [
  {
   "cell_type": "markdown",
   "metadata": {},
   "source": [
    "Data from https://www.kaggle.com/c/bioresponse"
   ]
  },
  {
   "cell_type": "code",
   "execution_count": 1,
   "metadata": {
    "collapsed": true
   },
   "outputs": [],
   "source": [
    "import pandas as pd\n",
    "import pylab as pl\n",
    "import numpy as np"
   ]
  },
  {
   "cell_type": "code",
   "execution_count": 2,
   "metadata": {
    "collapsed": true
   },
   "outputs": [],
   "source": [
    "df = pd.DataFrame.from_csv('trainbio.csv', index_col=None)"
   ]
  },
  {
   "cell_type": "code",
   "execution_count": 3,
   "metadata": {
    "collapsed": false
   },
   "outputs": [],
   "source": [
    "dfc=df.corr()"
   ]
  },
  {
   "cell_type": "code",
   "execution_count": 4,
   "metadata": {
    "collapsed": false
   },
   "outputs": [
    {
     "data": {
      "text/plain": [
       "<matplotlib.axes._subplots.AxesSubplot at 0x11094b00>"
      ]
     },
     "execution_count": 4,
     "metadata": {},
     "output_type": "execute_result"
    },
    {
     "data": {
      "image/png": "[encoded data removed]",
      "text/plain": [
       "<matplotlib.figure.Figure at 0x110945c0>"
      ]
     },
     "metadata": {},
     "output_type": "display_data"
    }
   ],
   "source": [
    "%matplotlib inline\n",
    "import matplotlib.pyplot as plt\n",
    "df.groupby(df.Activity).size().plot(kind='bar')"
   ]
  },
  {
   "cell_type": "code",
   "execution_count": 5,
   "metadata": {
    "collapsed": false
   },
   "outputs": [
    {
     "name": "stdout",
     "output_type": "stream",
     "text": [
      "highest correlation\n"
     ]
    },
    {
     "data": {
      "text/html": [
       "<div>\n",
       "<table border=\"1\" class=\"dataframe\">\n",
       "  <thead>\n",
       "    <tr style=\"text-align: right;\">\n",
       "      <th></th>\n",
       "      <th>corr</th>\n",
       "    </tr>\n",
       "  </thead>\n",
       "  <tbody>\n",
       "    <tr>\n",
       "      <th>D217</th>\n",
       "      <td>-0.233387</td>\n",
       "    </tr>\n",
       "    <tr>\n",
       "      <th>D87</th>\n",
       "      <td>-0.223081</td>\n",
       "    </tr>\n",
       "    <tr>\n",
       "      <th>D187</th>\n",
       "      <td>-0.198590</td>\n",
       "    </tr>\n",
       "    <tr>\n",
       "      <th>D158</th>\n",
       "      <td>-0.197721</td>\n",
       "    </tr>\n",
       "    <tr>\n",
       "      <th>D60</th>\n",
       "      <td>-0.180185</td>\n",
       "    </tr>\n",
       "    <tr>\n",
       "      <th>D61</th>\n",
       "      <td>-0.174588</td>\n",
       "    </tr>\n",
       "    <tr>\n",
       "      <th>D173</th>\n",
       "      <td>-0.169300</td>\n",
       "    </tr>\n",
       "    <tr>\n",
       "      <th>D175</th>\n",
       "      <td>-0.162607</td>\n",
       "    </tr>\n",
       "    <tr>\n",
       "      <th>D129</th>\n",
       "      <td>-0.153477</td>\n",
       "    </tr>\n",
       "    <tr>\n",
       "      <th>D103</th>\n",
       "      <td>-0.151922</td>\n",
       "    </tr>\n",
       "  </tbody>\n",
       "</table>\n",
       "</div>"
      ],
      "text/plain": [
       "          corr\n",
       "D217 -0.233387\n",
       "D87  -0.223081\n",
       "D187 -0.198590\n",
       "D158 -0.197721\n",
       "D60  -0.180185\n",
       "D61  -0.174588\n",
       "D173 -0.169300\n",
       "D175 -0.162607\n",
       "D129 -0.153477\n",
       "D103 -0.151922"
      ]
     },
     "execution_count": 5,
     "metadata": {},
     "output_type": "execute_result"
    }
   ],
   "source": [
    "dfc1=dfc[abs(dfc.Activity)>=0.05]\n",
    "dfc1=pd.DataFrame(dfc1.Activity)\n",
    "dfc1['corr']=dfc1['Activity']\n",
    "dfc1=dfc1.drop('Activity',1)\n",
    "chkcorr=dfc1.sort('corr')\n",
    "print 'highest correlation'\n",
    "chkcorr.head(10)"
   ]
  },
  {
   "cell_type": "code",
   "execution_count": 6,
   "metadata": {
    "collapsed": false
   },
   "outputs": [],
   "source": [
    "dft=pd.DataFrame(df.T)\n",
    "dfm=pd.merge(dfc1,dft,left_index='True',right_index='True')\n",
    "dfm=dfm.drop('corr',1)\n",
    "dfm=pd.DataFrame(dfm.T)\n"
   ]
  },
  {
   "cell_type": "code",
   "execution_count": 7,
   "metadata": {
    "collapsed": false
   },
   "outputs": [
    {
     "data": {
      "text/plain": [
       "(3751, 519)"
      ]
     },
     "execution_count": 7,
     "metadata": {},
     "output_type": "execute_result"
    }
   ],
   "source": [
    "dfm.shape"
   ]
  },
  {
   "cell_type": "code",
   "execution_count": 8,
   "metadata": {
    "collapsed": false
   },
   "outputs": [
    {
     "data": {
      "text/plain": [
       "['Activity',\n",
       " 'D1',\n",
       " 'D2',\n",
       " 'D3',\n",
       " 'D5',\n",
       " 'D6',\n",
       " 'D7',\n",
       " 'D8',\n",
       " 'D9',\n",
       " 'D10',\n",
       " 'D11',\n",
       " 'D13',\n",
       " 'D14',\n",
       " 'D15',\n",
       " 'D16',\n",
       " 'D17',\n",
       " 'D18',\n",
       " 'D19',\n",
       " 'D20',\n",
       " 'D21',\n",
       " 'D23',\n",
       " 'D26',\n",
       " 'D27',\n",
       " 'D30',\n",
       " 'D31',\n",
       " 'D32',\n",
       " 'D35',\n",
       " 'D36',\n",
       " 'D41',\n",
       " 'D43',\n",
       " 'D48',\n",
       " 'D49',\n",
       " 'D50',\n",
       " 'D51',\n",
       " 'D52',\n",
       " 'D55',\n",
       " 'D56',\n",
       " 'D59',\n",
       " 'D60',\n",
       " 'D61',\n",
       " 'D62',\n",
       " 'D63',\n",
       " 'D64',\n",
       " 'D66',\n",
       " 'D67',\n",
       " 'D68',\n",
       " 'D69',\n",
       " 'D70',\n",
       " 'D73',\n",
       " 'D74',\n",
       " 'D75',\n",
       " 'D76',\n",
       " 'D77',\n",
       " 'D78',\n",
       " 'D79',\n",
       " 'D81',\n",
       " 'D83',\n",
       " 'D84',\n",
       " 'D85',\n",
       " 'D87',\n",
       " 'D88',\n",
       " 'D89',\n",
       " 'D96',\n",
       " 'D97',\n",
       " 'D98',\n",
       " 'D100',\n",
       " 'D101',\n",
       " 'D103',\n",
       " 'D106',\n",
       " 'D108',\n",
       " 'D116',\n",
       " 'D117',\n",
       " 'D119',\n",
       " 'D124',\n",
       " 'D125',\n",
       " 'D129',\n",
       " 'D131',\n",
       " 'D132',\n",
       " 'D133',\n",
       " 'D134',\n",
       " 'D135',\n",
       " 'D136',\n",
       " 'D138',\n",
       " 'D140',\n",
       " 'D141',\n",
       " 'D144',\n",
       " 'D146',\n",
       " 'D147',\n",
       " 'D149',\n",
       " 'D152',\n",
       " 'D153',\n",
       " 'D154',\n",
       " 'D155',\n",
       " 'D156',\n",
       " 'D158',\n",
       " 'D159',\n",
       " 'D160',\n",
       " 'D161',\n",
       " 'D162',\n",
       " 'D163',\n",
       " 'D164',\n",
       " 'D173',\n",
       " 'D174',\n",
       " 'D175',\n",
       " 'D177',\n",
       " 'D181',\n",
       " 'D182',\n",
       " 'D183',\n",
       " 'D186',\n",
       " 'D187',\n",
       " 'D194',\n",
       " 'D196',\n",
       " 'D197',\n",
       " 'D198',\n",
       " 'D200',\n",
       " 'D201',\n",
       " 'D202',\n",
       " 'D204',\n",
       " 'D207',\n",
       " 'D209',\n",
       " 'D210',\n",
       " 'D211',\n",
       " 'D214',\n",
       " 'D217',\n",
       " 'D222',\n",
       " 'D225',\n",
       " 'D228',\n",
       " 'D229',\n",
       " 'D231',\n",
       " 'D232',\n",
       " 'D237',\n",
       " 'D258',\n",
       " 'D259',\n",
       " 'D260',\n",
       " 'D262',\n",
       " 'D264',\n",
       " 'D265',\n",
       " 'D267',\n",
       " 'D269',\n",
       " 'D270',\n",
       " 'D271',\n",
       " 'D276',\n",
       " 'D278',\n",
       " 'D286',\n",
       " 'D287',\n",
       " 'D288',\n",
       " 'D292',\n",
       " 'D293',\n",
       " 'D294',\n",
       " 'D304',\n",
       " 'D306',\n",
       " 'D309',\n",
       " 'D310',\n",
       " 'D311',\n",
       " 'D312',\n",
       " 'D313',\n",
       " 'D314',\n",
       " 'D315',\n",
       " 'D318',\n",
       " 'D320',\n",
       " 'D334',\n",
       " 'D360',\n",
       " 'D361',\n",
       " 'D365',\n",
       " 'D373',\n",
       " 'D376',\n",
       " 'D377',\n",
       " 'D378',\n",
       " 'D380',\n",
       " 'D386',\n",
       " 'D390',\n",
       " 'D391',\n",
       " 'D416',\n",
       " 'D426',\n",
       " 'D440',\n",
       " 'D442',\n",
       " 'D449',\n",
       " 'D451',\n",
       " 'D453',\n",
       " 'D454',\n",
       " 'D455',\n",
       " 'D456',\n",
       " 'D458',\n",
       " 'D459',\n",
       " 'D460',\n",
       " 'D469',\n",
       " 'D473',\n",
       " 'D474',\n",
       " 'D476',\n",
       " 'D480',\n",
       " 'D481',\n",
       " 'D495',\n",
       " 'D504',\n",
       " 'D506',\n",
       " 'D512',\n",
       " 'D524',\n",
       " 'D525',\n",
       " 'D526',\n",
       " 'D527',\n",
       " 'D530',\n",
       " 'D531',\n",
       " 'D545',\n",
       " 'D555',\n",
       " 'D556',\n",
       " 'D558',\n",
       " 'D569',\n",
       " 'D582',\n",
       " 'D583',\n",
       " 'D586',\n",
       " 'D588',\n",
       " 'D592',\n",
       " 'D595',\n",
       " 'D596',\n",
       " 'D597',\n",
       " 'D598',\n",
       " 'D607',\n",
       " 'D608',\n",
       " 'D609',\n",
       " 'D610',\n",
       " 'D611',\n",
       " 'D612',\n",
       " 'D613',\n",
       " 'D622',\n",
       " 'D623',\n",
       " 'D624',\n",
       " 'D625',\n",
       " 'D626',\n",
       " 'D627',\n",
       " 'D649',\n",
       " 'D659',\n",
       " 'D660',\n",
       " 'D661',\n",
       " 'D672',\n",
       " 'D674',\n",
       " 'D675',\n",
       " 'D676',\n",
       " 'D685',\n",
       " 'D687',\n",
       " 'D688',\n",
       " 'D690',\n",
       " 'D691',\n",
       " 'D700',\n",
       " 'D701',\n",
       " 'D703',\n",
       " 'D711',\n",
       " 'D739',\n",
       " 'D740',\n",
       " 'D741',\n",
       " 'D742',\n",
       " 'D747',\n",
       " 'D750',\n",
       " 'D751',\n",
       " 'D752',\n",
       " 'D761',\n",
       " 'D762',\n",
       " 'D794',\n",
       " 'D802',\n",
       " 'D803',\n",
       " 'D806',\n",
       " 'D807',\n",
       " 'D811',\n",
       " 'D842',\n",
       " 'D843',\n",
       " 'D844',\n",
       " 'D855',\n",
       " 'D881',\n",
       " 'D889',\n",
       " 'D890',\n",
       " 'D911',\n",
       " 'D912',\n",
       " 'D913',\n",
       " 'D928',\n",
       " 'D929',\n",
       " 'D932',\n",
       " 'D936',\n",
       " 'D943',\n",
       " 'D947',\n",
       " 'D948',\n",
       " 'D951',\n",
       " 'D952',\n",
       " 'D953',\n",
       " 'D954',\n",
       " 'D959',\n",
       " 'D960',\n",
       " 'D961',\n",
       " 'D964',\n",
       " 'D965',\n",
       " 'D966',\n",
       " 'D967',\n",
       " 'D969',\n",
       " 'D970',\n",
       " 'D971',\n",
       " 'D972',\n",
       " 'D973',\n",
       " 'D978',\n",
       " 'D979',\n",
       " 'D981',\n",
       " 'D986',\n",
       " 'D987',\n",
       " 'D988',\n",
       " 'D989',\n",
       " 'D991',\n",
       " 'D992',\n",
       " 'D993',\n",
       " 'D995',\n",
       " 'D996',\n",
       " 'D997',\n",
       " 'D998',\n",
       " 'D999',\n",
       " 'D1001',\n",
       " 'D1002',\n",
       " 'D1004',\n",
       " 'D1005',\n",
       " 'D1010',\n",
       " 'D1012',\n",
       " 'D1013',\n",
       " 'D1016',\n",
       " 'D1017',\n",
       " 'D1018',\n",
       " 'D1022',\n",
       " 'D1023',\n",
       " 'D1027',\n",
       " 'D1028',\n",
       " 'D1031',\n",
       " 'D1032',\n",
       " 'D1034',\n",
       " 'D1036',\n",
       " 'D1037',\n",
       " 'D1041',\n",
       " 'D1043',\n",
       " 'D1045',\n",
       " 'D1054',\n",
       " 'D1059',\n",
       " 'D1060',\n",
       " 'D1061',\n",
       " 'D1065',\n",
       " 'D1066',\n",
       " 'D1067',\n",
       " 'D1069',\n",
       " 'D1070',\n",
       " 'D1071',\n",
       " 'D1074',\n",
       " 'D1076',\n",
       " 'D1077',\n",
       " 'D1078',\n",
       " 'D1083',\n",
       " 'D1087',\n",
       " 'D1089',\n",
       " 'D1090',\n",
       " 'D1093',\n",
       " 'D1094',\n",
       " 'D1096',\n",
       " 'D1106',\n",
       " 'D1109',\n",
       " 'D1110',\n",
       " 'D1112',\n",
       " 'D1113',\n",
       " 'D1116',\n",
       " 'D1120',\n",
       " 'D1125',\n",
       " 'D1127',\n",
       " 'D1128',\n",
       " 'D1133',\n",
       " 'D1135',\n",
       " 'D1137',\n",
       " 'D1143',\n",
       " 'D1144',\n",
       " 'D1149',\n",
       " 'D1150',\n",
       " 'D1152',\n",
       " 'D1155',\n",
       " 'D1157',\n",
       " 'D1160',\n",
       " 'D1163',\n",
       " 'D1164',\n",
       " 'D1167',\n",
       " 'D1168',\n",
       " 'D1169',\n",
       " 'D1170',\n",
       " 'D1172',\n",
       " 'D1174',\n",
       " 'D1176',\n",
       " 'D1178',\n",
       " 'D1179',\n",
       " 'D1180',\n",
       " 'D1181',\n",
       " 'D1187',\n",
       " 'D1190',\n",
       " 'D1191',\n",
       " 'D1193',\n",
       " 'D1194',\n",
       " 'D1195',\n",
       " 'D1196',\n",
       " 'D1201',\n",
       " 'D1202',\n",
       " 'D1204',\n",
       " 'D1206',\n",
       " 'D1208',\n",
       " 'D1211',\n",
       " 'D1213',\n",
       " 'D1219',\n",
       " 'D1226',\n",
       " 'D1230',\n",
       " 'D1232',\n",
       " 'D1234',\n",
       " 'D1242',\n",
       " 'D1243',\n",
       " 'D1247',\n",
       " 'D1251',\n",
       " 'D1252',\n",
       " 'D1259',\n",
       " 'D1263',\n",
       " 'D1268',\n",
       " 'D1272',\n",
       " 'D1273',\n",
       " 'D1277',\n",
       " 'D1280',\n",
       " 'D1281',\n",
       " 'D1285',\n",
       " 'D1286',\n",
       " 'D1289',\n",
       " 'D1294',\n",
       " 'D1299',\n",
       " 'D1307',\n",
       " 'D1309',\n",
       " 'D1311',\n",
       " 'D1317',\n",
       " 'D1324',\n",
       " 'D1333',\n",
       " 'D1335',\n",
       " 'D1337',\n",
       " 'D1338',\n",
       " 'D1341',\n",
       " 'D1344',\n",
       " 'D1347',\n",
       " 'D1349',\n",
       " 'D1354',\n",
       " 'D1361',\n",
       " 'D1363',\n",
       " 'D1364',\n",
       " 'D1366',\n",
       " 'D1371',\n",
       " 'D1376',\n",
       " 'D1379',\n",
       " 'D1382',\n",
       " 'D1384',\n",
       " 'D1390',\n",
       " 'D1391',\n",
       " 'D1397',\n",
       " 'D1400',\n",
       " 'D1403',\n",
       " 'D1406',\n",
       " 'D1407',\n",
       " 'D1408',\n",
       " 'D1409',\n",
       " 'D1410',\n",
       " 'D1412',\n",
       " 'D1414',\n",
       " 'D1415',\n",
       " 'D1418',\n",
       " 'D1419',\n",
       " 'D1421',\n",
       " 'D1424',\n",
       " 'D1426',\n",
       " 'D1427',\n",
       " 'D1431',\n",
       " 'D1434',\n",
       " 'D1441',\n",
       " 'D1442',\n",
       " 'D1445',\n",
       " 'D1446',\n",
       " 'D1447',\n",
       " 'D1448',\n",
       " 'D1449',\n",
       " 'D1454',\n",
       " 'D1456',\n",
       " 'D1463',\n",
       " 'D1472',\n",
       " 'D1481',\n",
       " 'D1486',\n",
       " 'D1496',\n",
       " 'D1497',\n",
       " 'D1505',\n",
       " 'D1519',\n",
       " 'D1532',\n",
       " 'D1539',\n",
       " 'D1540',\n",
       " 'D1541',\n",
       " 'D1543',\n",
       " 'D1545',\n",
       " 'D1552',\n",
       " 'D1569',\n",
       " 'D1571',\n",
       " 'D1580',\n",
       " 'D1582',\n",
       " 'D1585',\n",
       " 'D1589',\n",
       " 'D1596',\n",
       " 'D1598',\n",
       " 'D1613',\n",
       " 'D1637',\n",
       " 'D1644',\n",
       " 'D1650',\n",
       " 'D1653',\n",
       " 'D1677',\n",
       " 'D1679',\n",
       " 'D1681',\n",
       " 'D1682',\n",
       " 'D1684',\n",
       " 'D1699',\n",
       " 'D1709',\n",
       " 'D1718',\n",
       " 'D1728',\n",
       " 'D1729',\n",
       " 'D1731',\n",
       " 'D1739',\n",
       " 'D1746',\n",
       " 'D1763',\n",
       " 'D1768']"
      ]
     },
     "execution_count": 8,
     "metadata": {},
     "output_type": "execute_result"
    }
   ],
   "source": [
    "list(dfm)"
   ]
  },
  {
   "cell_type": "code",
   "execution_count": 9,
   "metadata": {
    "collapsed": false
   },
   "outputs": [
    {
     "name": "stdout",
     "output_type": "stream",
     "text": [
      "Feature Ranking: \n",
      "1 feature no.21 (0.0412771059582)\n",
      "2 feature no.42 (0.0149759011794)\n",
      "3 feature no.11 (0.0148549219389)\n",
      "4 feature no.8 (0.0131522148441)\n",
      "5 feature no.67 (0.0126827814426)\n",
      "6 feature no.3 (0.0111456384808)\n",
      "7 feature no.12 (0.0108078287768)\n",
      "8 feature no.4 (0.0104894485651)\n",
      "9 feature no.5 (0.0100650837832)\n",
      "10 feature no.13 (0.0100116553434)\n"
     ]
    }
   ],
   "source": [
    "from sklearn.ensemble import RandomForestClassifier\n",
    "dfm=np.array(dfm)\n",
    "cfr = RandomForestClassifier(n_estimators=100, random_state=40)\n",
    "target = np.array([x[0] for x in dfm])\n",
    "features = np.array([x[1:] for x in dfm])\n",
    "cfr.fit(features, target)\n",
    "importances = cfr.feature_importances_\n",
    "import numpy as np\n",
    "indices = np.argsort(importances)[::-1]\n",
    "print 'Feature Ranking: '\n",
    "for i in range(10):\n",
    "    print \"{} feature no.{} ({})\".format(i+1,indices[i],importances[indices[i]])"
   ]
  },
  {
   "cell_type": "code",
   "execution_count": 10,
   "metadata": {
    "collapsed": false
   },
   "outputs": [
    {
     "data": {
      "text/plain": [
       "<matplotlib.axes._subplots.AxesSubplot at 0xef6a128>"
      ]
     },
     "execution_count": 10,
     "metadata": {},
     "output_type": "execute_result"
    },
    {
     "data": {
      "image/png": "[encoded data removed]",
      "text/plain": [
       "<matplotlib.figure.Figure at 0xef4ecf8>"
      ]
     },
     "metadata": {},
     "output_type": "display_data"
    }
   ],
   "source": [
    "grp=pd.DataFrame({'D21mean': df.groupby(by=['Activity'])['D21'].mean()}).reset_index()\n",
    "grp.plot(x='Activity',y='D21mean',kind='bar')"
   ]
  },
  {
   "cell_type": "code",
   "execution_count": 11,
   "metadata": {
    "collapsed": false
   },
   "outputs": [
    {
     "data": {
      "text/html": [
       "<div>\n",
       "<table border=\"1\" class=\"dataframe\">\n",
       "  <thead>\n",
       "    <tr style=\"text-align: right;\">\n",
       "      <th></th>\n",
       "      <th>Activity</th>\n",
       "      <th>D21</th>\n",
       "    </tr>\n",
       "  </thead>\n",
       "  <tbody>\n",
       "    <tr>\n",
       "      <th>Activity</th>\n",
       "      <td>1.000000</td>\n",
       "      <td>-0.081993</td>\n",
       "    </tr>\n",
       "    <tr>\n",
       "      <th>D21</th>\n",
       "      <td>-0.081993</td>\n",
       "      <td>1.000000</td>\n",
       "    </tr>\n",
       "  </tbody>\n",
       "</table>\n",
       "</div>"
      ],
      "text/plain": [
       "          Activity       D21\n",
       "Activity  1.000000 -0.081993\n",
       "D21      -0.081993  1.000000"
      ]
     },
     "execution_count": 11,
     "metadata": {},
     "output_type": "execute_result"
    }
   ],
   "source": [
    "df[['Activity','D21']].corr()"
   ]
  },
  {
   "cell_type": "code",
   "execution_count": 12,
   "metadata": {
    "collapsed": false
   },
   "outputs": [
    {
     "data": {
      "text/plain": [
       "<matplotlib.axes._subplots.AxesSubplot at 0xe809e80>"
      ]
     },
     "execution_count": 12,
     "metadata": {},
     "output_type": "execute_result"
    },
    {
     "data": {
      "image/png": "[encoded data removed]",
      "text/plain": [
       "<matplotlib.figure.Figure at 0xef41a58>"
      ]
     },
     "metadata": {},
     "output_type": "display_data"
    }
   ],
   "source": [
    "grp=pd.DataFrame({'D87mean': df.groupby(by=['Activity'])['D87'].mean()}).reset_index()\n",
    "grp.plot(x='Activity',y='D87mean',kind='bar')"
   ]
  },
  {
   "cell_type": "code",
   "execution_count": 13,
   "metadata": {
    "collapsed": false
   },
   "outputs": [
    {
     "data": {
      "text/plain": [
       "<matplotlib.axes._subplots.AxesSubplot at 0xb899ba8>"
      ]
     },
     "execution_count": 13,
     "metadata": {},
     "output_type": "execute_result"
    },
    {
     "data": {
      "image/png": "[encoded data removed]",
      "text/plain": [
       "<matplotlib.figure.Figure at 0xbb8fc88>"
      ]
     },
     "metadata": {},
     "output_type": "display_data"
    }
   ],
   "source": [
    "grp=pd.DataFrame({'D217mean': df.groupby(by=['Activity'])['D217'].mean()}).reset_index()\n",
    "grp.plot(x='Activity',y='D217mean',kind='bar')\n"
   ]
  },
  {
   "cell_type": "code",
   "execution_count": 14,
   "metadata": {
    "collapsed": false
   },
   "outputs": [
    {
     "data": {
      "text/plain": [
       "<matplotlib.axes._subplots.AxesSubplot at 0x1159c0b8>"
      ]
     },
     "execution_count": 14,
     "metadata": {},
     "output_type": "execute_result"
    },
    {
     "data": {
      "image/png": "[encoded data removed]",
      "text/plain": [
       "<matplotlib.figure.Figure at 0xf19e0b8>"
      ]
     },
     "metadata": {},
     "output_type": "display_data"
    }
   ],
   "source": [
    "grp=pd.DataFrame({'D42mean': df.groupby(by=['Activity'])['D42'].mean()}).reset_index()\n",
    "grp.plot(x='Activity',y='D42mean',kind='bar')"
   ]
  },
  {
   "cell_type": "code",
   "execution_count": 290,
   "metadata": {
    "collapsed": true
   },
   "outputs": [],
   "source": []
  },
  {
   "cell_type": "code",
   "execution_count": null,
   "metadata": {
    "collapsed": false
   },
   "outputs": [],
   "source": []
  },
  {
   "cell_type": "code",
   "execution_count": null,
   "metadata": {
    "collapsed": true
   },
   "outputs": [],
   "source": []
  },
  {
   "cell_type": "code",
   "execution_count": null,
   "metadata": {
    "collapsed": false
   },
   "outputs": [],
   "source": []
  },
  {
   "cell_type": "code",
   "execution_count": null,
   "metadata": {
    "collapsed": true
   },
   "outputs": [],
   "source": []
  },
  {
   "cell_type": "code",
   "execution_count": 26,
   "metadata": {
    "collapsed": false
   },
   "outputs": [],
   "source": [
    "from sklearn.feature_selection import SelectKBest\n",
    "from sklearn.feature_selection import chi2\n",
    "from sklearn.ensemble import RandomForestClassifier\n",
    "from sklearn.linear_model import LogisticRegression\n",
    "from sklearn.naive_bayes import GaussianNB\n",
    "from sklearn.cross_validation import train_test_split,cross_val_score\n",
    "from sklearn import cross_validation\n",
    "from sklearn.metrics import roc_curve, auc\n",
    "from sklearn.metrics import accuracy_score,f1_score\n",
    "from scipy import interp"
   ]
  },
  {
   "cell_type": "code",
   "execution_count": null,
   "metadata": {
    "collapsed": true
   },
   "outputs": [],
   "source": []
  },
  {
   "cell_type": "code",
   "execution_count": null,
   "metadata": {
    "collapsed": false
   },
   "outputs": [],
   "source": [
    " "
   ]
  },
  {
   "cell_type": "code",
   "execution_count": null,
   "metadata": {
    "collapsed": true
   },
   "outputs": [],
   "source": []
  },
  {
   "cell_type": "code",
   "execution_count": null,
   "metadata": {
    "collapsed": false
   },
   "outputs": [],
   "source": []
  },
  {
   "cell_type": "code",
   "execution_count": null,
   "metadata": {
    "collapsed": true
   },
   "outputs": [],
   "source": []
  },
  {
   "cell_type": "code",
   "execution_count": null,
   "metadata": {
    "collapsed": false
   },
   "outputs": [],
   "source": []
  },
  {
   "cell_type": "code",
   "execution_count": 62,
   "metadata": {
    "collapsed": false
   },
   "outputs": [
    {
     "data": {
      "image/png": "[encoded data removed]",
      "text/plain": [
       "<matplotlib.figure.Figure at 0x11a040f0>"
      ]
     },
     "metadata": {},
     "output_type": "display_data"
    }
   ],
   "source": [
    "    target = np.array([x[0] for x in dfm])\n",
    "    features = np.array([x[1:] for x in dfm])\n",
    "    \n",
    "    X1 = SelectKBest(chi2,k=450).fit_transform(features,target)\n",
    "    X2 = SelectKBest(chi2,k=100).fit_transform(features,target)\n",
    "    X3 = SelectKBest(chi2,k=100).fit_transform(features,target)\n",
    "    X4 = SelectKBest(chi2,k=100).fit_transform(features,target)\n",
    "    X5 = SelectKBest(chi2,k=60).fit_transform(features,target)\n",
    "    \n",
    "    clf1 = RandomForestClassifier(n_estimators=100, random_state=40,min_samples_split=2)\n",
    "    clf2=LogisticRegression(random_state=40)\n",
    "    clf3=LogisticRegression(penalty='l1',random_state=40)\n",
    "    clf4=LogisticRegression(penalty='l2',random_state=40)\n",
    "    clf5=GaussianNB()\n",
    "    cv = cross_validation.KFold(len(features), n_folds=10,shuffle=True, random_state=40)\n",
    "    mean_tpr1 = 0.0\n",
    "    mean_fpr1 = np.linspace(0, 1, 100)\n",
    "    mean_tpr2 = 0.0\n",
    "    mean_fpr2 = np.linspace(0, 1, 100)\n",
    "    mean_tpr3 = 0.0\n",
    "    mean_fpr3 = np.linspace(0, 1, 100)\n",
    "    mean_tpr4 = 0.0\n",
    "    mean_fpr4 = np.linspace(0, 1, 100)\n",
    "    mean_tpr5 = 0.0\n",
    "    mean_fpr5 = np.linspace(0, 1, 100)\n",
    "    all_tpr=[]\n",
    "    for i,(train, test) in enumerate(cv):\n",
    "                \n",
    "                probas1 = clf1.fit(X1[train], target[train]).predict_proba(X1[test])\n",
    "                # Compute ROC curve and area the curve\n",
    "                fpr1, tpr1, thresholds1 = roc_curve(target[test], probas1[:, 1])\n",
    "                \n",
    "                mean_tpr1 += interp(mean_fpr1, fpr1, tpr1)\n",
    "                mean_tpr1[0] = 0.0\n",
    "                roc_auc1 = auc(fpr1, tpr1)\n",
    "                probas2 = clf2.fit(X2[train], target[train]).predict_proba(X2[test])\n",
    "                # Compute ROC curve and area the curve\n",
    "                fpr2, tpr2, thresholds2 = roc_curve(target[test], probas2[:, 1])\n",
    "                \n",
    "                mean_tpr2 += interp(mean_fpr2, fpr2, tpr2)\n",
    "                mean_tpr2[0] = 0.0\n",
    "                roc_auc2 = auc(fpr2, tpr2)\n",
    "                probas3 = clf3.fit(X3[train], target[train]).predict_proba(X3[test])\n",
    "                # Compute ROC curve and area the curve\n",
    "                fpr3, tpr3, thresholds3 = roc_curve(target[test], probas3[:, 1])\n",
    "                \n",
    "                mean_tpr3 += interp(mean_fpr3, fpr3, tpr3)\n",
    "                mean_tpr3[0] = 0.0\n",
    "                roc_auc3 = auc(fpr3, tpr3)\n",
    "                probas4 = clf4.fit(X4[train], target[train]).predict_proba(X4[test])\n",
    "                # Compute ROC curve and area the curve\n",
    "                fpr4, tpr4, thresholds4 = roc_curve(target[test], probas4[:, 1])\n",
    "                \n",
    "                mean_tpr4 += interp(mean_fpr4, fpr4, tpr4)\n",
    "                mean_tpr4[0] = 0.0\n",
    "                roc_auc4 = auc(fpr4, tpr4)\n",
    "                probas5 = clf5.fit(X5[train], target[train]).predict_proba(X5[test])\n",
    "                # Compute ROC curve and area the curve\n",
    "                fpr5, tpr5, thresholds5 = roc_curve(target[test], probas5[:, 1])\n",
    "                \n",
    "                mean_tpr5 += interp(mean_fpr5, fpr5, tpr5)\n",
    "                mean_tpr5[0] = 0.0\n",
    "                roc_auc5 = auc(fpr5, tpr5)\n",
    "    \n",
    "    mean_tpr1 /= len(cv)\n",
    "    mean_tpr1[-1] = 1.0\n",
    "    mean_auc1 = auc(mean_fpr1, mean_tpr1)\n",
    "                \n",
    "    \n",
    "    mean_tpr2 /= len(cv)\n",
    "    mean_tpr2[-1] = 1.0\n",
    "    mean_auc2 = auc(mean_fpr2, mean_tpr2)\n",
    "                \n",
    "    \n",
    "    mean_tpr3 /= len(cv)\n",
    "    mean_tpr3[-1] = 1.0\n",
    "    mean_auc3 = auc(mean_fpr3, mean_tpr3)\n",
    "                \n",
    "    \n",
    "    mean_tpr4 /= len(cv)\n",
    "    mean_tpr4[-1] = 1.0\n",
    "    mean_auc4 = auc(mean_fpr4, mean_tpr4)\n",
    "                \n",
    "    \n",
    "    mean_tpr5 /= len(cv)\n",
    "    mean_tpr5[-1] = 1.0\n",
    "    mean_auc5 = auc(mean_fpr5, mean_tpr5)\n",
    "    \n",
    "    plt.plot([0, 1], [0, 1], '--', color=(0.6, 0.6, 0.6), label='Luck')\n",
    "    plt.plot(mean_fpr1, mean_tpr1, 'k--',\n",
    "             label='Mean ROC RF(area = %0.3f)' % mean_auc1, lw=2,color='r')\n",
    "    plt.plot(mean_fpr2, mean_tpr2, 'k--',\n",
    "             label='Mean ROC Logi(area = %0.3f)' % mean_auc2, lw=2,color='b')\n",
    "    plt.plot(mean_fpr3, mean_tpr3, 'k--',\n",
    "             label='Mean ROC Logil1(area = %0.3f)' % mean_auc3, lw=2,color='g')\n",
    "    plt.plot(mean_fpr4, mean_tpr4, 'k--',\n",
    "             label='Mean ROC Logil2(area = %0.3f)' % mean_auc4, lw=2,color='y')\n",
    "    plt.plot(mean_fpr5, mean_tpr5, 'k--',\n",
    "             label='Mean ROC NB(area = %0.3f)' % mean_auc5, lw=2)\n",
    "    plt.xlim([-0.05, 1.05])\n",
    "    plt.ylim([-0.05, 1.05])\n",
    "    plt.xlabel('False Positive Rate')\n",
    "    plt.ylabel('True Positive Rate')\n",
    "    plt.title('Receiver operating characteristic ')\n",
    "    plt.legend(loc=\"lower right\")\n",
    "    plt.show()\n",
    "    \n",
    "            "
   ]
  },
  {
   "cell_type": "code",
   "execution_count": null,
   "metadata": {
    "collapsed": false,
    "scrolled": true
   },
   "outputs": [],
   "source": []
  },
  {
   "cell_type": "code",
   "execution_count": null,
   "metadata": {
    "collapsed": false
   },
   "outputs": [],
   "source": [
    "from sklearn.grid_search import GridSearchCV\n",
    "from operator import itemgetter\n",
    "from scipy.stats import randint as sp_randint\n",
    "\n",
    "cfr = RandomForestClassifier(n_estimators=100, random_state=40)\n",
    "def report(grid_scores, n_top=3):\n",
    "    top_scores = sorted(grid_scores, key=itemgetter(1), reverse=True)[:n_top]\n",
    "    for i, score in enumerate(top_scores):\n",
    "        print(\"Model with rank: {0}\".format(i + 1))\n",
    "        print(\"Mean validation score: {0:.3f} (std: {1:.3f})\".format(\n",
    "              score.mean_validation_score,\n",
    "              np.std(score.cv_validation_scores)))\n",
    "        print(\"Parameters: {0}\".format(score.parameters))\n",
    "        print(\"\")\n",
    "\n",
    "\n",
    "# specify parameters and distributions to sample from\n",
    "#param_grid = {\"max_depth\": [3, None],\n",
    "              \"max_features\": [200, 300, 400],\n",
    "              \"min_samples_split\": [2, 20, 50],\n",
    "              \"min_samples_leaf\": [2, 20, 50],\n",
    "              \"bootstrap\": [True, False],\n",
    "              \"criterion\": [\"gini\", \"entropy\"]}\n",
    "\n",
    "# run grid search\n",
    "grid_search = GridSearchCV(cfr, param_grid=param_grid)\n",
    "grid_search.fit(features, target)\n",
    "\n",
    "\n",
    "report(grid_search.grid_scores_)"
   ]
  },
  {
   "cell_type": "code",
   "execution_count": null,
   "metadata": {
    "collapsed": false
   },
   "outputs": [],
   "source": []
  },
  {
   "cell_type": "code",
   "execution_count": 27,
   "metadata": {
    "collapsed": false
   },
   "outputs": [],
   "source": [
    "\n",
    "def cutoff_predict(clf,X1,cutoff):\n",
    "    return (clf.predict_proba(X1)[:,1]>cutoff).astype(int)\n",
    "scores=[]\n",
    "\n",
    "def custom_f1(cutoff):\n",
    "    def f1_cutoff(clf,X1,target):\n",
    "        ypred=cutoff_predict(clf,X1,cutoff)\n",
    "        return f1_score(target,ypred)\n",
    "    return f1_cutoff\n",
    "for cutoff in np.arange(0.1,0.9,0.1):\n",
    "    clf=RandomForestClassifier(n_estimators=100)\n",
    "    validated=cross_val_score(clf,X1,target,cv=10,scoring=custom_f1(cutoff))\n",
    "    scores.append(validated)"
   ]
  },
  {
   "cell_type": "code",
   "execution_count": 42,
   "metadata": {
    "collapsed": false
   },
   "outputs": [
    {
     "data": {
      "text/plain": [
       "<function matplotlib.pyplot.show>"
      ]
     },
     "execution_count": 42,
     "metadata": {},
     "output_type": "execute_result"
    },
    {
     "data": {
      "image/png": "[encoded data removed]",
      "text/plain": [
       "<matplotlib.figure.Figure at 0x119f3eb8>"
      ]
     },
     "metadata": {},
     "output_type": "display_data"
    }
   ],
   "source": [
    "\n",
    "plt.boxplot(scores,positions=np.arange(0.1,0.9,0.1))\n",
    "plt.title('F scores for each tree')\n",
    "plt.xlabel('each cutoff value')\n",
    "plt.ylabel('custom F score')\n",
    "\n",
    "plt.show"
   ]
  },
  {
   "cell_type": "markdown",
   "metadata": {
    "collapsed": false
   },
   "source": [
    "0.4 seems to be the optimal threshold"
   ]
  },
  {
   "cell_type": "code",
   "execution_count": null,
   "metadata": {
    "collapsed": true
   },
   "outputs": [],
   "source": []
  },
  {
   "cell_type": "code",
   "execution_count": null,
   "metadata": {
    "collapsed": true
   },
   "outputs": [],
   "source": []
  },
  {
   "cell_type": "code",
   "execution_count": 302,
   "metadata": {
    "collapsed": true
   },
   "outputs": [],
   "source": []
  },
  {
   "cell_type": "code",
   "execution_count": null,
   "metadata": {
    "collapsed": true
   },
   "outputs": [],
   "source": []
  },
  {
   "cell_type": "code",
   "execution_count": null,
   "metadata": {
    "collapsed": false
   },
   "outputs": [],
   "source": [
    "  "
   ]
  },
  {
   "cell_type": "code",
   "execution_count": null,
   "metadata": {
    "collapsed": true
   },
   "outputs": [],
   "source": []
  },
  {
   "cell_type": "code",
   "execution_count": null,
   "metadata": {
    "collapsed": false
   },
   "outputs": [],
   "source": [
    " "
   ]
  },
  {
   "cell_type": "code",
   "execution_count": null,
   "metadata": {
    "collapsed": false
   },
   "outputs": [],
   "source": []
  },
  {
   "cell_type": "code",
   "execution_count": null,
   "metadata": {
    "collapsed": false
   },
   "outputs": [],
   "source": []
  },
  {
   "cell_type": "code",
   "execution_count": null,
   "metadata": {
    "collapsed": false
   },
   "outputs": [],
   "source": []
  },
  {
   "cell_type": "code",
   "execution_count": null,
   "metadata": {
    "collapsed": true
   },
   "outputs": [],
   "source": []
  },
  {
   "cell_type": "code",
   "execution_count": null,
   "metadata": {
    "collapsed": false
   },
   "outputs": [],
   "source": [
    " "
   ]
  },
  {
   "cell_type": "code",
   "execution_count": null,
   "metadata": {
    "collapsed": false
   },
   "outputs": [],
   "source": []
  },
  {
   "cell_type": "code",
   "execution_count": null,
   "metadata": {
    "collapsed": false
   },
   "outputs": [],
   "source": [
    "   "
   ]
  },
  {
   "cell_type": "code",
   "execution_count": null,
   "metadata": {
    "collapsed": true
   },
   "outputs": [],
   "source": []
  },
  {
   "cell_type": "code",
   "execution_count": 513,
   "metadata": {
    "collapsed": false
   },
   "outputs": [],
   "source": [
    "\n",
    "      \n"
   ]
  },
  {
   "cell_type": "code",
   "execution_count": null,
   "metadata": {
    "collapsed": false
   },
   "outputs": [],
   "source": [
    " "
   ]
  },
  {
   "cell_type": "code",
   "execution_count": null,
   "metadata": {
    "collapsed": false
   },
   "outputs": [],
   "source": [
    "   "
   ]
  },
  {
   "cell_type": "code",
   "execution_count": null,
   "metadata": {
    "collapsed": false
   },
   "outputs": [],
   "source": [
    "\n"
   ]
  },
  {
   "cell_type": "markdown",
   "metadata": {
    "collapsed": false
   },
   "source": [
    "Predicting with Randomforest"
   ]
  },
  {
   "cell_type": "code",
   "execution_count": 63,
   "metadata": {
    "collapsed": false
   },
   "outputs": [
    {
     "data": {
      "text/plain": [
       "450"
      ]
     },
     "execution_count": 63,
     "metadata": {},
     "output_type": "execute_result"
    }
   ],
   "source": [
    "target = np.array([x[0] for x in dfm])\n",
    "features = np.array([x[1:] for x in dfm])\n",
    "c=SelectKBest(chi2,k=450)\n",
    "c.fit_transform(features,target)\n",
    "t=c.get_support()\n",
    "t=pd.DataFrame(t)\n",
    "t['keep']=t[0]\n",
    "len(t[t.keep==True])"
   ]
  },
  {
   "cell_type": "code",
   "execution_count": 64,
   "metadata": {
    "collapsed": false
   },
   "outputs": [],
   "source": [
    "test = pd.DataFrame.from_csv('testbio.csv', index_col=None)\n",
    "testt=pd.DataFrame(test.T)\n",
    "testm=pd.merge(dfc1,testt,left_index='True',right_index='True')\n",
    "testm=testm.drop('corr',1)\n",
    "t1 = t.set_index(testm.index)\n",
    "testm['keep']=t1['keep']\n",
    "testm=testm[testm.keep==True]\n",
    "testm=testm.drop('keep',1)\n",
    "testm=testm.T\n"
   ]
  },
  {
   "cell_type": "code",
   "execution_count": 65,
   "metadata": {
    "collapsed": false
   },
   "outputs": [
    {
     "data": {
      "text/plain": [
       "RandomForestClassifier(bootstrap=True, class_weight=None, criterion='gini',\n",
       "            max_depth=None, max_features='auto', max_leaf_nodes=None,\n",
       "            min_samples_leaf=1, min_samples_split=2,\n",
       "            min_weight_fraction_leaf=0.0, n_estimators=100, n_jobs=1,\n",
       "            oob_score=False, random_state=40, verbose=0, warm_start=False)"
      ]
     },
     "execution_count": 65,
     "metadata": {},
     "output_type": "execute_result"
    }
   ],
   "source": [
    "testa=np.array(testm)\n",
    "test = np.array([x[0:] for x in testa])\n",
    "target = np.array([x[0] for x in dfm])\n",
    "features = np.array([x[1:] for x in dfm])\n",
    "X_new = SelectKBest(k=450).fit_transform(features,target)\n",
    "#cfr = RandomForestClassifier(n_estimators=100, random_state=40,min_samples_split=10)\n",
    "cfr = RandomForestClassifier(n_estimators=100, random_state=40)\n",
    "cfr.fit(X_new, target)\n",
    "#cfr.fit(features, target)"
   ]
  },
  {
   "cell_type": "code",
   "execution_count": 66,
   "metadata": {
    "collapsed": false
   },
   "outputs": [],
   "source": [
    "\n",
    "predicted_probs = [[index + 1, x[1]] for index, x in enumerate(cfr.predict_proba(test))]\n",
    "from numpy import genfromtxt, savetxt\n",
    "savetxt('submission.csv', predicted_probs, delimiter=',', fmt='%d,%f',header='MoleculeId,PredictedProbability', comments = '')\n",
    "\n",
    "                            "
   ]
  },
  {
   "cell_type": "code",
   "execution_count": null,
   "metadata": {
    "collapsed": false
   },
   "outputs": [],
   "source": []
  },
  {
   "cell_type": "code",
   "execution_count": null,
   "metadata": {
    "collapsed": false
   },
   "outputs": [],
   "source": []
  },
  {
   "cell_type": "code",
   "execution_count": null,
   "metadata": {
    "collapsed": false
   },
   "outputs": [],
   "source": []
  },
  {
   "cell_type": "code",
   "execution_count": null,
   "metadata": {
    "collapsed": true
   },
   "outputs": [],
   "source": []
  },
  {
   "cell_type": "code",
   "execution_count": null,
   "metadata": {
    "collapsed": false
   },
   "outputs": [],
   "source": []
  },
  {
   "cell_type": "code",
   "execution_count": null,
   "metadata": {
    "collapsed": true
   },
   "outputs": [],
   "source": []
  }
 ],
 "metadata": {
  "kernelspec": {
   "display_name": "Python 2",
   "language": "python",
   "name": "python2"
  },
  "language_info": {
   "codemirror_mode": {
    "name": "ipython",
    "version": 2
   },
   "file_extension": ".py",
   "mimetype": "text/x-python",
   "name": "python",
   "nbconvert_exporter": "python",
   "pygments_lexer": "ipython2",
   "version": "2.7.10"
  }
 },
 "nbformat": 4,
 "nbformat_minor": 0
}
